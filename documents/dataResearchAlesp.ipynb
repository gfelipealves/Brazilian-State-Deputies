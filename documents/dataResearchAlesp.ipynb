{
 "cells": [
  {
   "cell_type": "markdown",
   "metadata": {},
   "source": [
    "Irei realizar a coneção com os dados da Alesp para realizar uma análise exploratória."
   ]
  },
  {
   "cell_type": "code",
   "execution_count": 1,
   "metadata": {
    "vscode": {
     "languageId": "python"
    }
   },
   "outputs": [],
   "source": [
    "# Buscar dados na web\n",
    "import requests\n",
    "\n",
    "# Modelagem de dados\n",
    "import pandas as pd\n",
    "\n",
    "# Visualização de dados\n",
    "import matplotlib.pyplot as plt\n",
    "import json"
   ]
  },
  {
   "cell_type": "code",
   "execution_count": 2,
   "metadata": {
    "vscode": {
     "languageId": "python"
    }
   },
   "outputs": [
    {
     "data": {
      "text/html": [
       "<div>\n",
       "<style scoped>\n",
       "    .dataframe tbody tr th:only-of-type {\n",
       "        vertical-align: middle;\n",
       "    }\n",
       "\n",
       "    .dataframe tbody tr th {\n",
       "        vertical-align: top;\n",
       "    }\n",
       "\n",
       "    .dataframe thead th {\n",
       "        text-align: right;\n",
       "    }\n",
       "</style>\n",
       "<table border=\"1\" class=\"dataframe\">\n",
       "  <thead>\n",
       "    <tr style=\"text-align: right;\">\n",
       "      <th></th>\n",
       "      <th>Ano</th>\n",
       "      <th>Matricula</th>\n",
       "      <th>Mes</th>\n",
       "      <th>Valor</th>\n",
       "      <th>CNPJ</th>\n",
       "      <th>Deputado</th>\n",
       "      <th>Tipo</th>\n",
       "      <th>Fornecedor</th>\n",
       "    </tr>\n",
       "  </thead>\n",
       "  <tbody>\n",
       "    <tr>\n",
       "      <th>0</th>\n",
       "      <td>2015</td>\n",
       "      <td>300257</td>\n",
       "      <td>3</td>\n",
       "      <td>200.00</td>\n",
       "      <td>71806251000106</td>\n",
       "      <td>ABELARDO CAMARINHA</td>\n",
       "      <td>A - COMBUSTÍVEIS E LUBRIFICANTES</td>\n",
       "      <td>AUTO POSTO DE SERVIÇOS MARV LTDA</td>\n",
       "    </tr>\n",
       "    <tr>\n",
       "      <th>1</th>\n",
       "      <td>2015</td>\n",
       "      <td>300257</td>\n",
       "      <td>3</td>\n",
       "      <td>295.40</td>\n",
       "      <td>68064740000125</td>\n",
       "      <td>ABELARDO CAMARINHA</td>\n",
       "      <td>E - MATERIAIS DE ESCRITÓRIO E OUTROS MATERIAIS...</td>\n",
       "      <td>PAPER FACE COMERCIAL LTDA</td>\n",
       "    </tr>\n",
       "    <tr>\n",
       "      <th>2</th>\n",
       "      <td>2015</td>\n",
       "      <td>300257</td>\n",
       "      <td>3</td>\n",
       "      <td>2850.00</td>\n",
       "      <td>22145388877</td>\n",
       "      <td>ABELARDO CAMARINHA</td>\n",
       "      <td>N - MORADIA</td>\n",
       "      <td>LARA SERVINO VARGAS ABREU</td>\n",
       "    </tr>\n",
       "    <tr>\n",
       "      <th>3</th>\n",
       "      <td>2015</td>\n",
       "      <td>300257</td>\n",
       "      <td>4</td>\n",
       "      <td>100.00</td>\n",
       "      <td>10915883000113</td>\n",
       "      <td>ABELARDO CAMARINHA</td>\n",
       "      <td>A - COMBUSTÍVEIS E LUBRIFICANTES</td>\n",
       "      <td>CENTRO AUTOMOTIVO TOP 23 LTDA</td>\n",
       "    </tr>\n",
       "    <tr>\n",
       "      <th>4</th>\n",
       "      <td>2015</td>\n",
       "      <td>300257</td>\n",
       "      <td>4</td>\n",
       "      <td>195.01</td>\n",
       "      <td>71806251000106</td>\n",
       "      <td>ABELARDO CAMARINHA</td>\n",
       "      <td>A - COMBUSTÍVEIS E LUBRIFICANTES</td>\n",
       "      <td>AUTO POSTO DE SERVIÇOS MARV LTDA</td>\n",
       "    </tr>\n",
       "  </tbody>\n",
       "</table>\n",
       "</div>"
      ],
      "text/plain": [
       "    Ano  Matricula  Mes    Valor            CNPJ            Deputado  \\\n",
       "0  2015     300257    3   200.00  71806251000106  ABELARDO CAMARINHA   \n",
       "1  2015     300257    3   295.40  68064740000125  ABELARDO CAMARINHA   \n",
       "2  2015     300257    3  2850.00     22145388877  ABELARDO CAMARINHA   \n",
       "3  2015     300257    4   100.00  10915883000113  ABELARDO CAMARINHA   \n",
       "4  2015     300257    4   195.01  71806251000106  ABELARDO CAMARINHA   \n",
       "\n",
       "                                                Tipo  \\\n",
       "0                   A - COMBUSTÍVEIS E LUBRIFICANTES   \n",
       "1  E - MATERIAIS DE ESCRITÓRIO E OUTROS MATERIAIS...   \n",
       "2                                        N - MORADIA   \n",
       "3                   A - COMBUSTÍVEIS E LUBRIFICANTES   \n",
       "4                   A - COMBUSTÍVEIS E LUBRIFICANTES   \n",
       "\n",
       "                         Fornecedor  \n",
       "0  AUTO POSTO DE SERVIÇOS MARV LTDA  \n",
       "1         PAPER FACE COMERCIAL LTDA  \n",
       "2         LARA SERVINO VARGAS ABREU  \n",
       "3     CENTRO AUTOMOTIVO TOP 23 LTDA  \n",
       "4  AUTO POSTO DE SERVIÇOS MARV LTDA  "
      ]
     },
     "execution_count": 2,
     "metadata": {},
     "output_type": "execute_result"
    }
   ],
   "source": [
    "# Site da Alesp com os dados\n",
    "\n",
    "URL = 'https://www.al.sp.gov.br/repositorioDados/deputados/despesas_gabinetes.xml'\n",
    "\n",
    "# Conexão\n",
    "Conexao = requests.get(URL)\n",
    "\n",
    "# Ler os dados\n",
    "Base_Deputados = pd.read_xml(Conexao.content)\n",
    "\n",
    "# Imprimir as primeiras linhas\n",
    "Base_Deputados.head()"
   ]
  },
  {
   "cell_type": "code",
   "execution_count": 3,
   "metadata": {
    "vscode": {
     "languageId": "python"
    }
   },
   "outputs": [
    {
     "data": {
      "text/html": [
       "<div>\n",
       "<style scoped>\n",
       "    .dataframe tbody tr th:only-of-type {\n",
       "        vertical-align: middle;\n",
       "    }\n",
       "\n",
       "    .dataframe tbody tr th {\n",
       "        vertical-align: top;\n",
       "    }\n",
       "\n",
       "    .dataframe thead th {\n",
       "        text-align: right;\n",
       "    }\n",
       "</style>\n",
       "<table border=\"1\" class=\"dataframe\">\n",
       "  <thead>\n",
       "    <tr style=\"text-align: right;\">\n",
       "      <th></th>\n",
       "      <th></th>\n",
       "      <th>Valor</th>\n",
       "    </tr>\n",
       "    <tr>\n",
       "      <th>Deputado</th>\n",
       "      <th>Ano</th>\n",
       "      <th></th>\n",
       "    </tr>\n",
       "  </thead>\n",
       "  <tbody>\n",
       "    <tr>\n",
       "      <th>ITAMAR BORGES</th>\n",
       "      <th>2023</th>\n",
       "      <td>513900.80</td>\n",
       "    </tr>\n",
       "    <tr>\n",
       "      <th>TEONILIO BARBA</th>\n",
       "      <th>2023</th>\n",
       "      <td>513900.00</td>\n",
       "    </tr>\n",
       "    <tr>\n",
       "      <th>CARLÃO PIGNATARI</th>\n",
       "      <th>2023</th>\n",
       "      <td>513826.73</td>\n",
       "    </tr>\n",
       "    <tr>\n",
       "      <th>LUIZ FERNANDO T. FERREIRA</th>\n",
       "      <th>2023</th>\n",
       "      <td>513763.13</td>\n",
       "    </tr>\n",
       "    <tr>\n",
       "      <th>ENIO TATTO</th>\n",
       "      <th>2023</th>\n",
       "      <td>513196.35</td>\n",
       "    </tr>\n",
       "    <tr>\n",
       "      <th>DELEGADO OLIM</th>\n",
       "      <th>2023</th>\n",
       "      <td>513096.38</td>\n",
       "    </tr>\n",
       "    <tr>\n",
       "      <th>EMÍDIO DE SOUZA</th>\n",
       "      <th>2023</th>\n",
       "      <td>513007.77</td>\n",
       "    </tr>\n",
       "    <tr>\n",
       "      <th>PAULO FIORILO</th>\n",
       "      <th>2023</th>\n",
       "      <td>512238.77</td>\n",
       "    </tr>\n",
       "    <tr>\n",
       "      <th>VINICIUS CAMARINHA</th>\n",
       "      <th>2023</th>\n",
       "      <td>510786.81</td>\n",
       "    </tr>\n",
       "    <tr>\n",
       "      <th>LECI BRANDÃO</th>\n",
       "      <th>2023</th>\n",
       "      <td>503927.40</td>\n",
       "    </tr>\n",
       "    <tr>\n",
       "      <th>ALTAIR MORAES</th>\n",
       "      <th>2023</th>\n",
       "      <td>498269.03</td>\n",
       "    </tr>\n",
       "    <tr>\n",
       "      <th>MARCIO NAKASHIMA</th>\n",
       "      <th>2023</th>\n",
       "      <td>495347.05</td>\n",
       "    </tr>\n",
       "    <tr>\n",
       "      <th>VINICIUS CAMARINHA</th>\n",
       "      <th>2022</th>\n",
       "      <td>479337.43</td>\n",
       "    </tr>\n",
       "    <tr>\n",
       "      <th>LETÍCIA AGUIAR</th>\n",
       "      <th>2023</th>\n",
       "      <td>477543.05</td>\n",
       "    </tr>\n",
       "    <tr>\n",
       "      <th>ADALBERTO FREITAS</th>\n",
       "      <th>2022</th>\n",
       "      <td>476222.62</td>\n",
       "    </tr>\n",
       "    <tr>\n",
       "      <th>MAURICI</th>\n",
       "      <th>2023</th>\n",
       "      <td>473029.68</td>\n",
       "    </tr>\n",
       "    <tr>\n",
       "      <th>JORGE WILSON XERIFE DO CONSUMIDOR</th>\n",
       "      <th>2023</th>\n",
       "      <td>472475.53</td>\n",
       "    </tr>\n",
       "    <tr>\n",
       "      <th>MAURO BRAGATO</th>\n",
       "      <th>2023</th>\n",
       "      <td>471519.61</td>\n",
       "    </tr>\n",
       "    <tr>\n",
       "      <th>TEONILIO BARBA</th>\n",
       "      <th>2022</th>\n",
       "      <td>467079.32</td>\n",
       "    </tr>\n",
       "    <tr>\n",
       "      <th>AGENTE FEDERAL DANILO BALAS</th>\n",
       "      <th>2023</th>\n",
       "      <td>466240.30</td>\n",
       "    </tr>\n",
       "  </tbody>\n",
       "</table>\n",
       "</div>"
      ],
      "text/plain": [
       "                                            Valor\n",
       "Deputado                          Ano            \n",
       "ITAMAR BORGES                     2023  513900.80\n",
       "TEONILIO BARBA                    2023  513900.00\n",
       "CARLÃO PIGNATARI                  2023  513826.73\n",
       "LUIZ FERNANDO T. FERREIRA         2023  513763.13\n",
       "ENIO TATTO                        2023  513196.35\n",
       "DELEGADO OLIM                     2023  513096.38\n",
       "EMÍDIO DE SOUZA                   2023  513007.77\n",
       "PAULO FIORILO                     2023  512238.77\n",
       "VINICIUS CAMARINHA                2023  510786.81\n",
       "LECI BRANDÃO                      2023  503927.40\n",
       "ALTAIR MORAES                     2023  498269.03\n",
       "MARCIO NAKASHIMA                  2023  495347.05\n",
       "VINICIUS CAMARINHA                2022  479337.43\n",
       "LETÍCIA AGUIAR                    2023  477543.05\n",
       "ADALBERTO FREITAS                 2022  476222.62\n",
       "MAURICI                           2023  473029.68\n",
       "JORGE WILSON XERIFE DO CONSUMIDOR 2023  472475.53\n",
       "MAURO BRAGATO                     2023  471519.61\n",
       "TEONILIO BARBA                    2022  467079.32\n",
       "AGENTE FEDERAL DANILO BALAS       2023  466240.30"
      ]
     },
     "execution_count": 3,
     "metadata": {},
     "output_type": "execute_result"
    }
   ],
   "source": [
    "# Ver os Deputados que mais gastaram por ano de forma decrescente\n",
    "Base_Deputados[['Deputado', 'Valor', 'Ano']].groupby(by=['Deputado', 'Ano']).sum().sort_values(by='Valor', ascending=False).head(20)"
   ]
  },
  {
   "cell_type": "code",
   "execution_count": 4,
   "metadata": {
    "vscode": {
     "languageId": "python"
    }
   },
   "outputs": [
    {
     "data": {
      "text/html": [
       "<div>\n",
       "<style scoped>\n",
       "    .dataframe tbody tr th:only-of-type {\n",
       "        vertical-align: middle;\n",
       "    }\n",
       "\n",
       "    .dataframe tbody tr th {\n",
       "        vertical-align: top;\n",
       "    }\n",
       "\n",
       "    .dataframe thead th {\n",
       "        text-align: right;\n",
       "    }\n",
       "</style>\n",
       "<table border=\"1\" class=\"dataframe\">\n",
       "  <thead>\n",
       "    <tr style=\"text-align: right;\">\n",
       "      <th></th>\n",
       "      <th></th>\n",
       "      <th>Valor</th>\n",
       "    </tr>\n",
       "    <tr>\n",
       "      <th>Deputado</th>\n",
       "      <th>Ano</th>\n",
       "      <th></th>\n",
       "    </tr>\n",
       "  </thead>\n",
       "  <tbody>\n",
       "    <tr>\n",
       "      <th>MAURICI</th>\n",
       "      <th>2024</th>\n",
       "      <td>319201.21</td>\n",
       "    </tr>\n",
       "  </tbody>\n",
       "</table>\n",
       "</div>"
      ],
      "text/plain": [
       "                   Valor\n",
       "Deputado Ano            \n",
       "MAURICI  2024  319201.21"
      ]
     },
     "execution_count": 4,
     "metadata": {},
     "output_type": "execute_result"
    }
   ],
   "source": [
    "# Fazer um teste para o primeiro filtro\n",
    "Base_Deputados[['Deputado', 'Ano', 'Valor']].query('Ano == 2024 & Deputado == \"MAURICI\"').groupby(by=['Deputado', 'Ano']).sum().sort_values(by='Valor', ascending=False).head(20)"
   ]
  },
  {
   "cell_type": "code",
   "execution_count": 5,
   "metadata": {
    "vscode": {
     "languageId": "python"
    }
   },
   "outputs": [],
   "source": [
    "# Set as variáveis que irei filtrar\n",
    "name = 'ITAMAR BORGES'\n",
    "ano = 2023\n",
    "mes = 2\n",
    "tipo = 'P - DIVULGAÇÃO DA ATIVIDADE PARLAMENTAR' "
   ]
  },
  {
   "cell_type": "code",
   "execution_count": 6,
   "metadata": {
    "vscode": {
     "languageId": "python"
    }
   },
   "outputs": [
    {
     "data": {
      "text/html": [
       "<div>\n",
       "<style scoped>\n",
       "    .dataframe tbody tr th:only-of-type {\n",
       "        vertical-align: middle;\n",
       "    }\n",
       "\n",
       "    .dataframe tbody tr th {\n",
       "        vertical-align: top;\n",
       "    }\n",
       "\n",
       "    .dataframe thead th {\n",
       "        text-align: right;\n",
       "    }\n",
       "</style>\n",
       "<table border=\"1\" class=\"dataframe\">\n",
       "  <thead>\n",
       "    <tr style=\"text-align: right;\">\n",
       "      <th></th>\n",
       "      <th></th>\n",
       "      <th>Valor</th>\n",
       "    </tr>\n",
       "    <tr>\n",
       "      <th>Deputado</th>\n",
       "      <th>Ano</th>\n",
       "      <th></th>\n",
       "    </tr>\n",
       "  </thead>\n",
       "  <tbody>\n",
       "    <tr>\n",
       "      <th rowspan=\"14\" valign=\"top\">ITAMAR BORGES</th>\n",
       "      <th>2011</th>\n",
       "      <td>208274.19</td>\n",
       "    </tr>\n",
       "    <tr>\n",
       "      <th>2012</th>\n",
       "      <td>276600.00</td>\n",
       "    </tr>\n",
       "    <tr>\n",
       "      <th>2013</th>\n",
       "      <td>290550.00</td>\n",
       "    </tr>\n",
       "    <tr>\n",
       "      <th>2014</th>\n",
       "      <td>302100.00</td>\n",
       "    </tr>\n",
       "    <tr>\n",
       "      <th>2015</th>\n",
       "      <td>318750.00</td>\n",
       "    </tr>\n",
       "    <tr>\n",
       "      <th>2016</th>\n",
       "      <td>353250.00</td>\n",
       "    </tr>\n",
       "    <tr>\n",
       "      <th>2017</th>\n",
       "      <td>376928.76</td>\n",
       "    </tr>\n",
       "    <tr>\n",
       "      <th>2018</th>\n",
       "      <td>385500.00</td>\n",
       "    </tr>\n",
       "    <tr>\n",
       "      <th>2019</th>\n",
       "      <td>395784.96</td>\n",
       "    </tr>\n",
       "    <tr>\n",
       "      <th>2020</th>\n",
       "      <td>303710.00</td>\n",
       "    </tr>\n",
       "    <tr>\n",
       "      <th>2021</th>\n",
       "      <td>180419.60</td>\n",
       "    </tr>\n",
       "    <tr>\n",
       "      <th>2022</th>\n",
       "      <td>359662.50</td>\n",
       "    </tr>\n",
       "    <tr>\n",
       "      <th>2023</th>\n",
       "      <td>513900.80</td>\n",
       "    </tr>\n",
       "    <tr>\n",
       "      <th>2024</th>\n",
       "      <td>286797.14</td>\n",
       "    </tr>\n",
       "  </tbody>\n",
       "</table>\n",
       "</div>"
      ],
      "text/plain": [
       "                        Valor\n",
       "Deputado      Ano            \n",
       "ITAMAR BORGES 2011  208274.19\n",
       "              2012  276600.00\n",
       "              2013  290550.00\n",
       "              2014  302100.00\n",
       "              2015  318750.00\n",
       "              2016  353250.00\n",
       "              2017  376928.76\n",
       "              2018  385500.00\n",
       "              2019  395784.96\n",
       "              2020  303710.00\n",
       "              2021  180419.60\n",
       "              2022  359662.50\n",
       "              2023  513900.80\n",
       "              2024  286797.14"
      ]
     },
     "execution_count": 6,
     "metadata": {},
     "output_type": "execute_result"
    }
   ],
   "source": [
    "# Filtrar por nome o Deputado e os valores gastos por ano\n",
    "Base_Deputados[['Deputado', 'Ano', 'Valor']].query(f\"Deputado == '{name}'\").groupby(by=['Deputado', 'Ano']).sum().sort_values(by='Ano', ascending=True)"
   ]
  },
  {
   "cell_type": "code",
   "execution_count": 7,
   "metadata": {
    "vscode": {
     "languageId": "python"
    }
   },
   "outputs": [
    {
     "data": {
      "text/html": [
       "<div>\n",
       "<style scoped>\n",
       "    .dataframe tbody tr th:only-of-type {\n",
       "        vertical-align: middle;\n",
       "    }\n",
       "\n",
       "    .dataframe tbody tr th {\n",
       "        vertical-align: top;\n",
       "    }\n",
       "\n",
       "    .dataframe thead th {\n",
       "        text-align: right;\n",
       "    }\n",
       "</style>\n",
       "<table border=\"1\" class=\"dataframe\">\n",
       "  <thead>\n",
       "    <tr style=\"text-align: right;\">\n",
       "      <th></th>\n",
       "      <th></th>\n",
       "      <th></th>\n",
       "      <th>Valor</th>\n",
       "    </tr>\n",
       "    <tr>\n",
       "      <th>Deputado</th>\n",
       "      <th>Ano</th>\n",
       "      <th>Mes</th>\n",
       "      <th></th>\n",
       "    </tr>\n",
       "  </thead>\n",
       "  <tbody>\n",
       "    <tr>\n",
       "      <th rowspan=\"12\" valign=\"top\">ITAMAR BORGES</th>\n",
       "      <th rowspan=\"12\" valign=\"top\">2023</th>\n",
       "      <th>1</th>\n",
       "      <td>42825.00</td>\n",
       "    </tr>\n",
       "    <tr>\n",
       "      <th>2</th>\n",
       "      <td>42005.59</td>\n",
       "    </tr>\n",
       "    <tr>\n",
       "      <th>3</th>\n",
       "      <td>43644.41</td>\n",
       "    </tr>\n",
       "    <tr>\n",
       "      <th>4</th>\n",
       "      <td>41840.78</td>\n",
       "    </tr>\n",
       "    <tr>\n",
       "      <th>5</th>\n",
       "      <td>43370.85</td>\n",
       "    </tr>\n",
       "    <tr>\n",
       "      <th>6</th>\n",
       "      <td>43024.65</td>\n",
       "    </tr>\n",
       "    <tr>\n",
       "      <th>7</th>\n",
       "      <td>38245.27</td>\n",
       "    </tr>\n",
       "    <tr>\n",
       "      <th>8</th>\n",
       "      <td>47643.45</td>\n",
       "    </tr>\n",
       "    <tr>\n",
       "      <th>9</th>\n",
       "      <td>42824.20</td>\n",
       "    </tr>\n",
       "    <tr>\n",
       "      <th>10</th>\n",
       "      <td>42825.00</td>\n",
       "    </tr>\n",
       "    <tr>\n",
       "      <th>11</th>\n",
       "      <td>42825.80</td>\n",
       "    </tr>\n",
       "    <tr>\n",
       "      <th>12</th>\n",
       "      <td>42825.80</td>\n",
       "    </tr>\n",
       "  </tbody>\n",
       "</table>\n",
       "</div>"
      ],
      "text/plain": [
       "                           Valor\n",
       "Deputado      Ano  Mes          \n",
       "ITAMAR BORGES 2023 1    42825.00\n",
       "                   2    42005.59\n",
       "                   3    43644.41\n",
       "                   4    41840.78\n",
       "                   5    43370.85\n",
       "                   6    43024.65\n",
       "                   7    38245.27\n",
       "                   8    47643.45\n",
       "                   9    42824.20\n",
       "                   10   42825.00\n",
       "                   11   42825.80\n",
       "                   12   42825.80"
      ]
     },
     "execution_count": 7,
     "metadata": {},
     "output_type": "execute_result"
    }
   ],
   "source": [
    "# Filtrar por nome e ano Deputao e os valores gastos\n",
    "Base_Deputados[['Deputado', 'Ano', 'Mes', 'Valor']].query(f\"Deputado == '{name}' & Ano == {ano}\").groupby(by=['Deputado', 'Ano', 'Mes']).sum().sort_values(by='Mes', ascending=True)"
   ]
  },
  {
   "cell_type": "code",
   "execution_count": 8,
   "metadata": {
    "vscode": {
     "languageId": "python"
    }
   },
   "outputs": [
    {
     "data": {
      "text/html": [
       "<div>\n",
       "<style scoped>\n",
       "    .dataframe tbody tr th:only-of-type {\n",
       "        vertical-align: middle;\n",
       "    }\n",
       "\n",
       "    .dataframe tbody tr th {\n",
       "        vertical-align: top;\n",
       "    }\n",
       "\n",
       "    .dataframe thead th {\n",
       "        text-align: right;\n",
       "    }\n",
       "</style>\n",
       "<table border=\"1\" class=\"dataframe\">\n",
       "  <thead>\n",
       "    <tr style=\"text-align: right;\">\n",
       "      <th></th>\n",
       "      <th></th>\n",
       "      <th></th>\n",
       "      <th>Valor</th>\n",
       "    </tr>\n",
       "    <tr>\n",
       "      <th>Deputado</th>\n",
       "      <th>Ano</th>\n",
       "      <th>Tipo</th>\n",
       "      <th></th>\n",
       "    </tr>\n",
       "  </thead>\n",
       "  <tbody>\n",
       "    <tr>\n",
       "      <th rowspan=\"11\" valign=\"top\">ITAMAR BORGES</th>\n",
       "      <th rowspan=\"11\" valign=\"top\">2023</th>\n",
       "      <th>P - DIVULGAÇÃO DA ATIVIDADE PARLAMENTAR</th>\n",
       "      <td>95124.31</td>\n",
       "    </tr>\n",
       "    <tr>\n",
       "      <th>A - COMBUSTÍVEIS E LUBRIFICANTES</th>\n",
       "      <td>94072.39</td>\n",
       "    </tr>\n",
       "    <tr>\n",
       "      <th>F - SERVIÇOS TÉCNICOS PROFISSIONAIS (CONSULTORIA, PESQUISAS ETC)</th>\n",
       "      <td>75000.00</td>\n",
       "    </tr>\n",
       "    <tr>\n",
       "      <th>O - LOCAÇÃO DE VEÍCULO</th>\n",
       "      <td>56405.79</td>\n",
       "    </tr>\n",
       "    <tr>\n",
       "      <th>K - LOCAÇÃO DE BENS MÓVEIS</th>\n",
       "      <td>42870.00</td>\n",
       "    </tr>\n",
       "    <tr>\n",
       "      <th>H - SERV.UTIL.PÚBLICA (TELEF.MÓVEL/FIXA, ENERGIA, ÁGUA, GÁS ETC)</th>\n",
       "      <td>39175.45</td>\n",
       "    </tr>\n",
       "    <tr>\n",
       "      <th>I - HOSPEDAGEM, ALIMENTAÇÃO E DESPESAS DE LOCOMOÇÃO</th>\n",
       "      <td>38880.16</td>\n",
       "    </tr>\n",
       "    <tr>\n",
       "      <th>L - LOCAÇÃO DE BENS IMÓVEIS</th>\n",
       "      <td>30999.11</td>\n",
       "    </tr>\n",
       "    <tr>\n",
       "      <th>E - MATERIAIS DE ESCRITÓRIO E OUTROS MATERIAIS DE CONSUMO</th>\n",
       "      <td>24148.52</td>\n",
       "    </tr>\n",
       "    <tr>\n",
       "      <th>J - SERVIÇOS DE COMUNICAÇÃO</th>\n",
       "      <td>13745.66</td>\n",
       "    </tr>\n",
       "    <tr>\n",
       "      <th>G - ASSINATURAS DE PERIÓDICOS, PUBLICAÇÕES, INTERNET E SOFTWARES</th>\n",
       "      <td>3479.41</td>\n",
       "    </tr>\n",
       "  </tbody>\n",
       "</table>\n",
       "</div>"
      ],
      "text/plain": [
       "                                                                          Valor\n",
       "Deputado      Ano  Tipo                                                        \n",
       "ITAMAR BORGES 2023 P - DIVULGAÇÃO DA ATIVIDADE PARLAMENTAR             95124.31\n",
       "                   A - COMBUSTÍVEIS E LUBRIFICANTES                    94072.39\n",
       "                   F - SERVIÇOS TÉCNICOS PROFISSIONAIS (CONSULTORI...  75000.00\n",
       "                   O - LOCAÇÃO DE VEÍCULO                              56405.79\n",
       "                   K - LOCAÇÃO DE BENS MÓVEIS                          42870.00\n",
       "                   H - SERV.UTIL.PÚBLICA (TELEF.MÓVEL/FIXA, ENERGI...  39175.45\n",
       "                   I - HOSPEDAGEM, ALIMENTAÇÃO E DESPESAS DE LOCOM...  38880.16\n",
       "                   L - LOCAÇÃO DE BENS IMÓVEIS                         30999.11\n",
       "                   E - MATERIAIS DE ESCRITÓRIO E OUTROS MATERIAIS ...  24148.52\n",
       "                   J - SERVIÇOS DE COMUNICAÇÃO                         13745.66\n",
       "                   G - ASSINATURAS DE PERIÓDICOS, PUBLICAÇÕES, INT...   3479.41"
      ]
     },
     "execution_count": 8,
     "metadata": {},
     "output_type": "execute_result"
    }
   ],
   "source": [
    "# Filtrar por nome e ano Deputado e os valores gastos por tipo de atividade\n",
    "Base_Deputados[['Deputado', 'Ano', 'Tipo', 'Fornecedor', 'CNPJ', 'Valor']].query(f\"Deputado == '{name}' & Ano == {ano}\").groupby(by=['Deputado', 'Ano', 'Tipo']).sum().sort_values(by='Valor', ascending=False)"
   ]
  },
  {
   "cell_type": "code",
   "execution_count": 9,
   "metadata": {
    "vscode": {
     "languageId": "python"
    }
   },
   "outputs": [
    {
     "data": {
      "text/html": [
       "<div>\n",
       "<style scoped>\n",
       "    .dataframe tbody tr th:only-of-type {\n",
       "        vertical-align: middle;\n",
       "    }\n",
       "\n",
       "    .dataframe tbody tr th {\n",
       "        vertical-align: top;\n",
       "    }\n",
       "\n",
       "    .dataframe thead th {\n",
       "        text-align: right;\n",
       "    }\n",
       "</style>\n",
       "<table border=\"1\" class=\"dataframe\">\n",
       "  <thead>\n",
       "    <tr style=\"text-align: right;\">\n",
       "      <th></th>\n",
       "      <th></th>\n",
       "      <th></th>\n",
       "      <th></th>\n",
       "      <th></th>\n",
       "      <th></th>\n",
       "      <th>Valor</th>\n",
       "    </tr>\n",
       "    <tr>\n",
       "      <th>Deputado</th>\n",
       "      <th>Ano</th>\n",
       "      <th>Mes</th>\n",
       "      <th>Tipo</th>\n",
       "      <th>Fornecedor</th>\n",
       "      <th>CNPJ</th>\n",
       "      <th></th>\n",
       "    </tr>\n",
       "  </thead>\n",
       "  <tbody>\n",
       "    <tr>\n",
       "      <th rowspan=\"12\" valign=\"top\">ITAMAR BORGES</th>\n",
       "      <th rowspan=\"12\" valign=\"top\">2023</th>\n",
       "      <th>3</th>\n",
       "      <th>P - DIVULGAÇÃO DA ATIVIDADE PARLAMENTAR</th>\n",
       "      <th>FACEBOOK SERVIÇOS ONLINE DO BRASIL LTDA</th>\n",
       "      <th>13347016000117</th>\n",
       "      <td>10000.00</td>\n",
       "    </tr>\n",
       "    <tr>\n",
       "      <th>4</th>\n",
       "      <th>P - DIVULGAÇÃO DA ATIVIDADE PARLAMENTAR</th>\n",
       "      <th>FACEBOOK SERVIÇOS ONLINE DO BRASIL LTDA</th>\n",
       "      <th>13347016000117</th>\n",
       "      <td>10000.00</td>\n",
       "    </tr>\n",
       "    <tr>\n",
       "      <th>5</th>\n",
       "      <th>P - DIVULGAÇÃO DA ATIVIDADE PARLAMENTAR</th>\n",
       "      <th>FACEBOOK SERVIÇOS ONLINE DO BRASIL LTDA</th>\n",
       "      <th>13347016000117</th>\n",
       "      <td>10000.00</td>\n",
       "    </tr>\n",
       "    <tr>\n",
       "      <th>6</th>\n",
       "      <th>P - DIVULGAÇÃO DA ATIVIDADE PARLAMENTAR</th>\n",
       "      <th>FACEBOOK SERVIÇOS ONLINE DO BRASIL LTDA</th>\n",
       "      <th>13347016000117</th>\n",
       "      <td>10000.00</td>\n",
       "    </tr>\n",
       "    <tr>\n",
       "      <th>7</th>\n",
       "      <th>P - DIVULGAÇÃO DA ATIVIDADE PARLAMENTAR</th>\n",
       "      <th>FACEBOOK SERVIÇOS ONLINE DO BRASIL LTDA</th>\n",
       "      <th>13347016000117</th>\n",
       "      <td>10000.00</td>\n",
       "    </tr>\n",
       "    <tr>\n",
       "      <th>10</th>\n",
       "      <th>P - DIVULGAÇÃO DA ATIVIDADE PARLAMENTAR</th>\n",
       "      <th>FACEBOOK SERVIÇOS ONLINE DO BRASIL LTDA</th>\n",
       "      <th>13347016000117</th>\n",
       "      <td>10000.00</td>\n",
       "    </tr>\n",
       "    <tr>\n",
       "      <th>8</th>\n",
       "      <th>P - DIVULGAÇÃO DA ATIVIDADE PARLAMENTAR</th>\n",
       "      <th>FACEBOOK SERVIÇOS ONLINE DO BRASIL LTDA</th>\n",
       "      <th>13347016000117</th>\n",
       "      <td>9582.16</td>\n",
       "    </tr>\n",
       "    <tr>\n",
       "      <th>9</th>\n",
       "      <th>P - DIVULGAÇÃO DA ATIVIDADE PARLAMENTAR</th>\n",
       "      <th>FACEBOOK SERVIÇOS ONLINE DO BRASIL LTDA</th>\n",
       "      <th>13347016000117</th>\n",
       "      <td>9152.98</td>\n",
       "    </tr>\n",
       "    <tr>\n",
       "      <th>1</th>\n",
       "      <th>P - DIVULGAÇÃO DA ATIVIDADE PARLAMENTAR</th>\n",
       "      <th>FACEBOOK SERVIÇOS ONLINE DO BRASIL LTDA</th>\n",
       "      <th>13347016000117</th>\n",
       "      <td>8895.99</td>\n",
       "    </tr>\n",
       "    <tr>\n",
       "      <th>2</th>\n",
       "      <th>P - DIVULGAÇÃO DA ATIVIDADE PARLAMENTAR</th>\n",
       "      <th>FACEBOOK SERVIÇOS ONLINE DO BRASIL LTDA</th>\n",
       "      <th>13347016000117</th>\n",
       "      <td>6527.98</td>\n",
       "    </tr>\n",
       "    <tr>\n",
       "      <th>11</th>\n",
       "      <th>P - DIVULGAÇÃO DA ATIVIDADE PARLAMENTAR</th>\n",
       "      <th>LOCAWEB</th>\n",
       "      <th>02351877000152</th>\n",
       "      <td>694.21</td>\n",
       "    </tr>\n",
       "    <tr>\n",
       "      <th>12</th>\n",
       "      <th>P - DIVULGAÇÃO DA ATIVIDADE PARLAMENTAR</th>\n",
       "      <th>LOCAWEB</th>\n",
       "      <th>02351877000152</th>\n",
       "      <td>270.99</td>\n",
       "    </tr>\n",
       "  </tbody>\n",
       "</table>\n",
       "</div>"
      ],
      "text/plain": [
       "                                                                                                                          Valor\n",
       "Deputado      Ano  Mes Tipo                                    Fornecedor                              CNPJ                    \n",
       "ITAMAR BORGES 2023 3   P - DIVULGAÇÃO DA ATIVIDADE PARLAMENTAR FACEBOOK SERVIÇOS ONLINE DO BRASIL LTDA 13347016000117  10000.00\n",
       "                   4   P - DIVULGAÇÃO DA ATIVIDADE PARLAMENTAR FACEBOOK SERVIÇOS ONLINE DO BRASIL LTDA 13347016000117  10000.00\n",
       "                   5   P - DIVULGAÇÃO DA ATIVIDADE PARLAMENTAR FACEBOOK SERVIÇOS ONLINE DO BRASIL LTDA 13347016000117  10000.00\n",
       "                   6   P - DIVULGAÇÃO DA ATIVIDADE PARLAMENTAR FACEBOOK SERVIÇOS ONLINE DO BRASIL LTDA 13347016000117  10000.00\n",
       "                   7   P - DIVULGAÇÃO DA ATIVIDADE PARLAMENTAR FACEBOOK SERVIÇOS ONLINE DO BRASIL LTDA 13347016000117  10000.00\n",
       "                   10  P - DIVULGAÇÃO DA ATIVIDADE PARLAMENTAR FACEBOOK SERVIÇOS ONLINE DO BRASIL LTDA 13347016000117  10000.00\n",
       "                   8   P - DIVULGAÇÃO DA ATIVIDADE PARLAMENTAR FACEBOOK SERVIÇOS ONLINE DO BRASIL LTDA 13347016000117   9582.16\n",
       "                   9   P - DIVULGAÇÃO DA ATIVIDADE PARLAMENTAR FACEBOOK SERVIÇOS ONLINE DO BRASIL LTDA 13347016000117   9152.98\n",
       "                   1   P - DIVULGAÇÃO DA ATIVIDADE PARLAMENTAR FACEBOOK SERVIÇOS ONLINE DO BRASIL LTDA 13347016000117   8895.99\n",
       "                   2   P - DIVULGAÇÃO DA ATIVIDADE PARLAMENTAR FACEBOOK SERVIÇOS ONLINE DO BRASIL LTDA 13347016000117   6527.98\n",
       "                   11  P - DIVULGAÇÃO DA ATIVIDADE PARLAMENTAR LOCAWEB                                 02351877000152    694.21\n",
       "                   12  P - DIVULGAÇÃO DA ATIVIDADE PARLAMENTAR LOCAWEB                                 02351877000152    270.99"
      ]
     },
     "execution_count": 9,
     "metadata": {},
     "output_type": "execute_result"
    }
   ],
   "source": [
    "# Filtrar por nome e ano Deputado e os valores gastos por tipo de atividade\n",
    "Base_Deputados[['Deputado', 'Ano', 'Mes', 'Tipo', 'Fornecedor', 'CNPJ', 'Valor']].query(f\"Deputado == '{name}' & Ano == {ano} & Tipo == '{tipo}'\").groupby(by=['Deputado', 'Ano', 'Mes','Tipo', 'Fornecedor', 'CNPJ']).sum().sort_values(by='Valor', ascending=False)"
   ]
  },
  {
   "cell_type": "code",
   "execution_count": 10,
   "metadata": {
    "vscode": {
     "languageId": "python"
    }
   },
   "outputs": [
    {
     "data": {
      "text/html": [
       "<div>\n",
       "<style scoped>\n",
       "    .dataframe tbody tr th:only-of-type {\n",
       "        vertical-align: middle;\n",
       "    }\n",
       "\n",
       "    .dataframe tbody tr th {\n",
       "        vertical-align: top;\n",
       "    }\n",
       "\n",
       "    .dataframe thead th {\n",
       "        text-align: right;\n",
       "    }\n",
       "</style>\n",
       "<table border=\"1\" class=\"dataframe\">\n",
       "  <thead>\n",
       "    <tr style=\"text-align: right;\">\n",
       "      <th></th>\n",
       "      <th></th>\n",
       "      <th></th>\n",
       "      <th></th>\n",
       "      <th></th>\n",
       "      <th></th>\n",
       "      <th>Valor</th>\n",
       "    </tr>\n",
       "    <tr>\n",
       "      <th>Deputado</th>\n",
       "      <th>Ano</th>\n",
       "      <th>Mes</th>\n",
       "      <th>Tipo</th>\n",
       "      <th>Fornecedor</th>\n",
       "      <th>CNPJ</th>\n",
       "      <th></th>\n",
       "    </tr>\n",
       "  </thead>\n",
       "  <tbody>\n",
       "    <tr>\n",
       "      <th rowspan=\"21\" valign=\"top\">ITAMAR BORGES</th>\n",
       "      <th rowspan=\"21\" valign=\"top\">2023</th>\n",
       "      <th rowspan=\"21\" valign=\"top\">2</th>\n",
       "      <th>P - DIVULGAÇÃO DA ATIVIDADE PARLAMENTAR</th>\n",
       "      <th>FACEBOOK SERVIÇOS ONLINE DO BRASIL LTDA</th>\n",
       "      <th>13347016000117</th>\n",
       "      <td>6527.98</td>\n",
       "    </tr>\n",
       "    <tr>\n",
       "      <th>I - HOSPEDAGEM, ALIMENTAÇÃO E DESPESAS DE LOCOMOÇÃO</th>\n",
       "      <th>EVES TURISMO S/S LTDA</th>\n",
       "      <th>04244790000101</th>\n",
       "      <td>5146.11</td>\n",
       "    </tr>\n",
       "    <tr>\n",
       "      <th>A - COMBUSTÍVEIS E LUBRIFICANTES</th>\n",
       "      <th>RODRIGUES &amp; ZAFALON LTDA</th>\n",
       "      <th>00735801000103</th>\n",
       "      <td>4664.46</td>\n",
       "    </tr>\n",
       "    <tr>\n",
       "      <th>F - SERVIÇOS TÉCNICOS PROFISSIONAIS (CONSULTORIA, PESQUISAS ETC)</th>\n",
       "      <th>HD SERVIÇOS EM TECNOLOGIA DE INFORMAÇÃO LTDA</th>\n",
       "      <th>15301657000166</th>\n",
       "      <td>4500.00</td>\n",
       "    </tr>\n",
       "    <tr>\n",
       "      <th>K - LOCAÇÃO DE BENS MÓVEIS</th>\n",
       "      <th>FERNANDO LUIZ LAUDINO LTDA</th>\n",
       "      <th>24313857000120</th>\n",
       "      <td>3610.00</td>\n",
       "    </tr>\n",
       "    <tr>\n",
       "      <th>F - SERVIÇOS TÉCNICOS PROFISSIONAIS (CONSULTORIA, PESQUISAS ETC)</th>\n",
       "      <th>GUILHERME BERNARDO SARDINHA MEI</th>\n",
       "      <th>22980050000115</th>\n",
       "      <td>3500.00</td>\n",
       "    </tr>\n",
       "    <tr>\n",
       "      <th>O - LOCAÇÃO DE VEÍCULO</th>\n",
       "      <th>UNIDAS VEÍCULOS ESPECIAIS S.A.</th>\n",
       "      <th>02491558000142</th>\n",
       "      <td>2835.90</td>\n",
       "    </tr>\n",
       "    <tr>\n",
       "      <th>L - LOCAÇÃO DE BENS IMÓVEIS</th>\n",
       "      <th>JOSE PAULO CAPARROZ</th>\n",
       "      <th>05383807802</th>\n",
       "      <td>2700.00</td>\n",
       "    </tr>\n",
       "    <tr>\n",
       "      <th>H - SERV.UTIL.PÚBLICA (TELEF.MÓVEL/FIXA, ENERGIA, ÁGUA, GÁS ETC)</th>\n",
       "      <th>TELEFONICA</th>\n",
       "      <th>02558157000162</th>\n",
       "      <td>1664.60</td>\n",
       "    </tr>\n",
       "    <tr>\n",
       "      <th>I - HOSPEDAGEM, ALIMENTAÇÃO E DESPESAS DE LOCOMOÇÃO</th>\n",
       "      <th>EXPRESSO ITAMARATI SA</th>\n",
       "      <th>05219256000108</th>\n",
       "      <td>1397.67</td>\n",
       "    </tr>\n",
       "    <tr>\n",
       "      <th>H - SERV.UTIL.PÚBLICA (TELEF.MÓVEL/FIXA, ENERGIA, ÁGUA, GÁS ETC)</th>\n",
       "      <th>ELEKTRO ELETRECIDADE E SERVIÇOS S.A.</th>\n",
       "      <th>02328280000197</th>\n",
       "      <td>1102.02</td>\n",
       "    </tr>\n",
       "    <tr>\n",
       "      <th rowspan=\"3\" valign=\"top\">E - MATERIAIS DE ESCRITÓRIO E OUTROS MATERIAIS DE CONSUMO</th>\n",
       "      <th>KALUNGA COMERCIO E IND. GRAFICA LTDA.</th>\n",
       "      <th>43283811002284</th>\n",
       "      <td>964.30</td>\n",
       "    </tr>\n",
       "    <tr>\n",
       "      <th>KALUNGA SA</th>\n",
       "      <th>43283811000745</th>\n",
       "      <td>868.09</td>\n",
       "    </tr>\n",
       "    <tr>\n",
       "      <th>ASSOC. SANTAFESSULENSE DOS SERVIDORES PUBLICOS</th>\n",
       "      <th>53218475000115</th>\n",
       "      <td>713.90</td>\n",
       "    </tr>\n",
       "    <tr>\n",
       "      <th rowspan=\"2\" valign=\"top\">I - HOSPEDAGEM, ALIMENTAÇÃO E DESPESAS DE LOCOMOÇÃO</th>\n",
       "      <th>EXPRESSO ITAMARATI SA</th>\n",
       "      <th>59965038000141</th>\n",
       "      <td>316.70</td>\n",
       "    </tr>\n",
       "    <tr>\n",
       "      <th>LEVARE TRANSPORTES LTDA.</th>\n",
       "      <th>09399877000171</th>\n",
       "      <td>304.90</td>\n",
       "    </tr>\n",
       "    <tr>\n",
       "      <th>G - ASSINATURAS DE PERIÓDICOS, PUBLICAÇÕES, INTERNET E SOFTWARES</th>\n",
       "      <th>CLARO NXT TELECOMUNICAÇÕES S.A.</th>\n",
       "      <th>66970229000167</th>\n",
       "      <td>284.09</td>\n",
       "    </tr>\n",
       "    <tr>\n",
       "      <th>I - HOSPEDAGEM, ALIMENTAÇÃO E DESPESAS DE LOCOMOÇÃO</th>\n",
       "      <th>HOTEL NACIONAL RIO PRETO LTDA.</th>\n",
       "      <th>49967557000195</th>\n",
       "      <td>242.95</td>\n",
       "    </tr>\n",
       "    <tr>\n",
       "      <th>G - ASSINATURAS DE PERIÓDICOS, PUBLICAÇÕES, INTERNET E SOFTWARES</th>\n",
       "      <th>SKY SERVICOS DE BANDA LARGA LTDA</th>\n",
       "      <th>00497373000110</th>\n",
       "      <td>174.42</td>\n",
       "    </tr>\n",
       "    <tr>\n",
       "      <th>E - MATERIAIS DE ESCRITÓRIO E OUTROS MATERIAIS DE CONSUMO</th>\n",
       "      <th>CLEUSA PRADO SOUSA 09837989823</th>\n",
       "      <th>34056187000167</th>\n",
       "      <td>169.90</td>\n",
       "    </tr>\n",
       "    <tr>\n",
       "      <th>J - SERVIÇOS DE COMUNICAÇÃO</th>\n",
       "      <th>ECT - SANTA FE DO SUL</th>\n",
       "      <th>34028316101996</th>\n",
       "      <td>99.60</td>\n",
       "    </tr>\n",
       "  </tbody>\n",
       "</table>\n",
       "</div>"
      ],
      "text/plain": [
       "                                                                                                                                           Valor\n",
       "Deputado      Ano  Mes Tipo                                               Fornecedor                                     CNPJ                   \n",
       "ITAMAR BORGES 2023 2   P - DIVULGAÇÃO DA ATIVIDADE PARLAMENTAR            FACEBOOK SERVIÇOS ONLINE DO BRASIL LTDA        13347016000117  6527.98\n",
       "                       I - HOSPEDAGEM, ALIMENTAÇÃO E DESPESAS DE LOCOM... EVES TURISMO S/S LTDA                          04244790000101  5146.11\n",
       "                       A - COMBUSTÍVEIS E LUBRIFICANTES                   RODRIGUES & ZAFALON LTDA                       00735801000103  4664.46\n",
       "                       F - SERVIÇOS TÉCNICOS PROFISSIONAIS (CONSULTORI... HD SERVIÇOS EM TECNOLOGIA DE INFORMAÇÃO LTDA   15301657000166  4500.00\n",
       "                       K - LOCAÇÃO DE BENS MÓVEIS                         FERNANDO LUIZ LAUDINO LTDA                     24313857000120  3610.00\n",
       "                       F - SERVIÇOS TÉCNICOS PROFISSIONAIS (CONSULTORI... GUILHERME BERNARDO SARDINHA MEI                22980050000115  3500.00\n",
       "                       O - LOCAÇÃO DE VEÍCULO                             UNIDAS VEÍCULOS ESPECIAIS S.A.                 02491558000142  2835.90\n",
       "                       L - LOCAÇÃO DE BENS IMÓVEIS                        JOSE PAULO CAPARROZ                            05383807802     2700.00\n",
       "                       H - SERV.UTIL.PÚBLICA (TELEF.MÓVEL/FIXA, ENERGI... TELEFONICA                                     02558157000162  1664.60\n",
       "                       I - HOSPEDAGEM, ALIMENTAÇÃO E DESPESAS DE LOCOM... EXPRESSO ITAMARATI SA                          05219256000108  1397.67\n",
       "                       H - SERV.UTIL.PÚBLICA (TELEF.MÓVEL/FIXA, ENERGI... ELEKTRO ELETRECIDADE E SERVIÇOS S.A.           02328280000197  1102.02\n",
       "                       E - MATERIAIS DE ESCRITÓRIO E OUTROS MATERIAIS ... KALUNGA COMERCIO E IND. GRAFICA LTDA.          43283811002284   964.30\n",
       "                                                                          KALUNGA SA                                     43283811000745   868.09\n",
       "                                                                          ASSOC. SANTAFESSULENSE DOS SERVIDORES PUBLICOS 53218475000115   713.90\n",
       "                       I - HOSPEDAGEM, ALIMENTAÇÃO E DESPESAS DE LOCOM... EXPRESSO ITAMARATI SA                          59965038000141   316.70\n",
       "                                                                          LEVARE TRANSPORTES LTDA.                       09399877000171   304.90\n",
       "                       G - ASSINATURAS DE PERIÓDICOS, PUBLICAÇÕES, INT... CLARO NXT TELECOMUNICAÇÕES S.A.                66970229000167   284.09\n",
       "                       I - HOSPEDAGEM, ALIMENTAÇÃO E DESPESAS DE LOCOM... HOTEL NACIONAL RIO PRETO LTDA.                 49967557000195   242.95\n",
       "                       G - ASSINATURAS DE PERIÓDICOS, PUBLICAÇÕES, INT... SKY SERVICOS DE BANDA LARGA LTDA               00497373000110   174.42\n",
       "                       E - MATERIAIS DE ESCRITÓRIO E OUTROS MATERIAIS ... CLEUSA PRADO SOUSA 09837989823                 34056187000167   169.90\n",
       "                       J - SERVIÇOS DE COMUNICAÇÃO                        ECT - SANTA FE DO SUL                          34028316101996    99.60"
      ]
     },
     "execution_count": 10,
     "metadata": {},
     "output_type": "execute_result"
    }
   ],
   "source": [
    "# Filtrar por nome e ano Deputao e os valores gastos \n",
    "# Esse é somente para testes, pois fica confusa a visão\n",
    "Base_Deputados[['Deputado', 'Ano', 'Mes', 'Tipo', 'Fornecedor', 'CNPJ', 'Valor']].query(f\"Deputado == '{name}' & Ano == {ano} & Mes == {mes}\").groupby(by=['Deputado', 'Ano', 'Mes', 'Tipo', 'Fornecedor', 'CNPJ']).sum().sort_values(by='Valor', ascending=False)"
   ]
  },
  {
   "cell_type": "code",
   "execution_count": 11,
   "metadata": {
    "vscode": {
     "languageId": "python"
    }
   },
   "outputs": [
    {
     "data": {
      "text/html": [
       "<div>\n",
       "<style scoped>\n",
       "    .dataframe tbody tr th:only-of-type {\n",
       "        vertical-align: middle;\n",
       "    }\n",
       "\n",
       "    .dataframe tbody tr th {\n",
       "        vertical-align: top;\n",
       "    }\n",
       "\n",
       "    .dataframe thead th {\n",
       "        text-align: right;\n",
       "    }\n",
       "</style>\n",
       "<table border=\"1\" class=\"dataframe\">\n",
       "  <thead>\n",
       "    <tr style=\"text-align: right;\">\n",
       "      <th></th>\n",
       "      <th>Ano</th>\n",
       "      <th>Matricula</th>\n",
       "      <th>Mes</th>\n",
       "      <th>Valor</th>\n",
       "      <th>CNPJ</th>\n",
       "      <th>Deputado</th>\n",
       "      <th>Tipo</th>\n",
       "      <th>Fornecedor</th>\n",
       "    </tr>\n",
       "  </thead>\n",
       "  <tbody>\n",
       "    <tr>\n",
       "      <th>260706</th>\n",
       "      <td>2023</td>\n",
       "      <td>300510</td>\n",
       "      <td>5</td>\n",
       "      <td>10000.00</td>\n",
       "      <td>13347016000117</td>\n",
       "      <td>ITAMAR BORGES</td>\n",
       "      <td>P - DIVULGAÇÃO DA ATIVIDADE PARLAMENTAR</td>\n",
       "      <td>FACEBOOK SERVIÇOS ONLINE DO BRASIL LTDA</td>\n",
       "    </tr>\n",
       "    <tr>\n",
       "      <th>260689</th>\n",
       "      <td>2023</td>\n",
       "      <td>300510</td>\n",
       "      <td>4</td>\n",
       "      <td>10000.00</td>\n",
       "      <td>13347016000117</td>\n",
       "      <td>ITAMAR BORGES</td>\n",
       "      <td>P - DIVULGAÇÃO DA ATIVIDADE PARLAMENTAR</td>\n",
       "      <td>FACEBOOK SERVIÇOS ONLINE DO BRASIL LTDA</td>\n",
       "    </tr>\n",
       "    <tr>\n",
       "      <th>260722</th>\n",
       "      <td>2023</td>\n",
       "      <td>300510</td>\n",
       "      <td>6</td>\n",
       "      <td>10000.00</td>\n",
       "      <td>13347016000117</td>\n",
       "      <td>ITAMAR BORGES</td>\n",
       "      <td>P - DIVULGAÇÃO DA ATIVIDADE PARLAMENTAR</td>\n",
       "      <td>FACEBOOK SERVIÇOS ONLINE DO BRASIL LTDA</td>\n",
       "    </tr>\n",
       "    <tr>\n",
       "      <th>260672</th>\n",
       "      <td>2023</td>\n",
       "      <td>300510</td>\n",
       "      <td>3</td>\n",
       "      <td>10000.00</td>\n",
       "      <td>13347016000117</td>\n",
       "      <td>ITAMAR BORGES</td>\n",
       "      <td>P - DIVULGAÇÃO DA ATIVIDADE PARLAMENTAR</td>\n",
       "      <td>FACEBOOK SERVIÇOS ONLINE DO BRASIL LTDA</td>\n",
       "    </tr>\n",
       "    <tr>\n",
       "      <th>260780</th>\n",
       "      <td>2023</td>\n",
       "      <td>300510</td>\n",
       "      <td>10</td>\n",
       "      <td>10000.00</td>\n",
       "      <td>13347016000117</td>\n",
       "      <td>ITAMAR BORGES</td>\n",
       "      <td>P - DIVULGAÇÃO DA ATIVIDADE PARLAMENTAR</td>\n",
       "      <td>FACEBOOK SERVIÇOS ONLINE DO BRASIL LTDA</td>\n",
       "    </tr>\n",
       "    <tr>\n",
       "      <th>...</th>\n",
       "      <td>...</td>\n",
       "      <td>...</td>\n",
       "      <td>...</td>\n",
       "      <td>...</td>\n",
       "      <td>...</td>\n",
       "      <td>...</td>\n",
       "      <td>...</td>\n",
       "      <td>...</td>\n",
       "    </tr>\n",
       "    <tr>\n",
       "      <th>260761</th>\n",
       "      <td>2023</td>\n",
       "      <td>300510</td>\n",
       "      <td>9</td>\n",
       "      <td>33.20</td>\n",
       "      <td>34028316101996</td>\n",
       "      <td>ITAMAR BORGES</td>\n",
       "      <td>J - SERVIÇOS DE COMUNICAÇÃO</td>\n",
       "      <td>ECT - SANTA FE DO SUL</td>\n",
       "    </tr>\n",
       "    <tr>\n",
       "      <th>260791</th>\n",
       "      <td>2023</td>\n",
       "      <td>300510</td>\n",
       "      <td>11</td>\n",
       "      <td>33.20</td>\n",
       "      <td>34028316101996</td>\n",
       "      <td>ITAMAR BORGES</td>\n",
       "      <td>J - SERVIÇOS DE COMUNICAÇÃO</td>\n",
       "      <td>ECT - SANTA FE DO SUL</td>\n",
       "    </tr>\n",
       "    <tr>\n",
       "      <th>260627</th>\n",
       "      <td>2023</td>\n",
       "      <td>300510</td>\n",
       "      <td>1</td>\n",
       "      <td>32.80</td>\n",
       "      <td>34028316101996</td>\n",
       "      <td>ITAMAR BORGES</td>\n",
       "      <td>J - SERVIÇOS DE COMUNICAÇÃO</td>\n",
       "      <td>ECT - SANTA FE DO SUL</td>\n",
       "    </tr>\n",
       "    <tr>\n",
       "      <th>260714</th>\n",
       "      <td>2023</td>\n",
       "      <td>300510</td>\n",
       "      <td>6</td>\n",
       "      <td>13.32</td>\n",
       "      <td>31858429000148</td>\n",
       "      <td>ITAMAR BORGES</td>\n",
       "      <td>G - ASSINATURAS DE PERIÓDICOS, PUBLICAÇÕES, IN...</td>\n",
       "      <td>LINKFACIL TELECOMUNICAÇÕES E TEC DO BRASIL EIRELI</td>\n",
       "    </tr>\n",
       "    <tr>\n",
       "      <th>260800</th>\n",
       "      <td>2023</td>\n",
       "      <td>300510</td>\n",
       "      <td>12</td>\n",
       "      <td>0.00</td>\n",
       "      <td>02558157000162</td>\n",
       "      <td>ITAMAR BORGES</td>\n",
       "      <td>G - ASSINATURAS DE PERIÓDICOS, PUBLICAÇÕES, IN...</td>\n",
       "      <td>TELEFONICA</td>\n",
       "    </tr>\n",
       "  </tbody>\n",
       "</table>\n",
       "<p>193 rows × 8 columns</p>\n",
       "</div>"
      ],
      "text/plain": [
       "         Ano  Matricula  Mes     Valor            CNPJ       Deputado  \\\n",
       "260706  2023     300510    5  10000.00  13347016000117  ITAMAR BORGES   \n",
       "260689  2023     300510    4  10000.00  13347016000117  ITAMAR BORGES   \n",
       "260722  2023     300510    6  10000.00  13347016000117  ITAMAR BORGES   \n",
       "260672  2023     300510    3  10000.00  13347016000117  ITAMAR BORGES   \n",
       "260780  2023     300510   10  10000.00  13347016000117  ITAMAR BORGES   \n",
       "...      ...        ...  ...       ...             ...            ...   \n",
       "260761  2023     300510    9     33.20  34028316101996  ITAMAR BORGES   \n",
       "260791  2023     300510   11     33.20  34028316101996  ITAMAR BORGES   \n",
       "260627  2023     300510    1     32.80  34028316101996  ITAMAR BORGES   \n",
       "260714  2023     300510    6     13.32  31858429000148  ITAMAR BORGES   \n",
       "260800  2023     300510   12      0.00  02558157000162  ITAMAR BORGES   \n",
       "\n",
       "                                                     Tipo  \\\n",
       "260706            P - DIVULGAÇÃO DA ATIVIDADE PARLAMENTAR   \n",
       "260689            P - DIVULGAÇÃO DA ATIVIDADE PARLAMENTAR   \n",
       "260722            P - DIVULGAÇÃO DA ATIVIDADE PARLAMENTAR   \n",
       "260672            P - DIVULGAÇÃO DA ATIVIDADE PARLAMENTAR   \n",
       "260780            P - DIVULGAÇÃO DA ATIVIDADE PARLAMENTAR   \n",
       "...                                                   ...   \n",
       "260761                        J - SERVIÇOS DE COMUNICAÇÃO   \n",
       "260791                        J - SERVIÇOS DE COMUNICAÇÃO   \n",
       "260627                        J - SERVIÇOS DE COMUNICAÇÃO   \n",
       "260714  G - ASSINATURAS DE PERIÓDICOS, PUBLICAÇÕES, IN...   \n",
       "260800  G - ASSINATURAS DE PERIÓDICOS, PUBLICAÇÕES, IN...   \n",
       "\n",
       "                                               Fornecedor  \n",
       "260706            FACEBOOK SERVIÇOS ONLINE DO BRASIL LTDA  \n",
       "260689            FACEBOOK SERVIÇOS ONLINE DO BRASIL LTDA  \n",
       "260722            FACEBOOK SERVIÇOS ONLINE DO BRASIL LTDA  \n",
       "260672            FACEBOOK SERVIÇOS ONLINE DO BRASIL LTDA  \n",
       "260780            FACEBOOK SERVIÇOS ONLINE DO BRASIL LTDA  \n",
       "...                                                   ...  \n",
       "260761                              ECT - SANTA FE DO SUL  \n",
       "260791                              ECT - SANTA FE DO SUL  \n",
       "260627                              ECT - SANTA FE DO SUL  \n",
       "260714  LINKFACIL TELECOMUNICAÇÕES E TEC DO BRASIL EIRELI  \n",
       "260800                                         TELEFONICA  \n",
       "\n",
       "[193 rows x 8 columns]"
      ]
     },
     "execution_count": 11,
     "metadata": {},
     "output_type": "execute_result"
    }
   ],
   "source": [
    "# Avaliar todas as colunas pelo o nome e Ano\n",
    "# Deixar os maiores valores primeiro\n",
    "Base_Deputados.query(f\"Deputado == '{name}' & Ano == {ano}\").sort_values(by='Valor', ascending=False)"
   ]
  },
  {
   "cell_type": "markdown",
   "metadata": {},
   "source": [
    "Modelar os gráficos para cada tipo de visualização"
   ]
  },
  {
   "cell_type": "code",
   "execution_count": 12,
   "metadata": {
    "vscode": {
     "languageId": "python"
    }
   },
   "outputs": [],
   "source": [
    "# libs gráficas\n",
    "import matplotlib.pyplot as plt\n",
    "import seaborn as sns\n",
    "import plotly.express as px"
   ]
  },
  {
   "cell_type": "markdown",
   "metadata": {},
   "source": [
    "Para os que mais gastaram"
   ]
  },
  {
   "cell_type": "code",
   "execution_count": 13,
   "metadata": {
    "vscode": {
     "languageId": "python"
    }
   },
   "outputs": [],
   "source": [
    "# Filtrar os dados e salvar no dataframe\n",
    "deputadosMaiorCusto = Base_Deputados[['Deputado', 'Valor', 'Ano']].groupby(by=['Deputado', 'Ano']).sum().sort_values(by=['Valor'], ascending=False).head(20).reset_index()\n",
    "\n",
    "# Criar uma coluna temporária que desambigua os valores duplicados\n",
    "deputadosMaiorCusto['Deputado'] = deputadosMaiorCusto['Deputado'] + \" (\" + deputadosMaiorCusto['Ano'].astype(str) + \")\""
   ]
  },
  {
   "cell_type": "code",
   "execution_count": 14,
   "metadata": {
    "vscode": {
     "languageId": "python"
    }
   },
   "outputs": [
    {
     "data": {
      "application/vnd.plotly.v1+json": {
       "config": {
        "plotlyServerURL": "https://plot.ly"
       },
       "data": [
        {
         "alignmentgroup": "True",
         "hovertemplate": "Valor=%{x}<br>Deputado=%{y}<br>Ano=%{text}<extra></extra>",
         "legendgroup": "",
         "marker": {
          "color": "#636efa",
          "pattern": {
           "shape": ""
          }
         },
         "name": "",
         "offsetgroup": "",
         "orientation": "h",
         "showlegend": false,
         "text": [
          2023,
          2022,
          2023,
          2023,
          2023,
          2022,
          2023,
          2022,
          2023,
          2023,
          2023,
          2023,
          2023,
          2023,
          2023,
          2023,
          2023,
          2023,
          2023,
          2023
         ],
         "textposition": "auto",
         "type": "bar",
         "x": [
          466240.3,
          467079.32,
          471519.61,
          472475.53,
          473029.68,
          476222.62,
          477543.05,
          479337.43,
          495347.05,
          498269.03,
          503927.4,
          510786.81,
          512238.77,
          513007.77,
          513096.38,
          513196.35,
          513763.13,
          513826.73,
          513900,
          513900.8
         ],
         "xaxis": "x",
         "y": [
          "AGENTE FEDERAL DANILO BALAS (2023)",
          "TEONILIO BARBA (2022)",
          "MAURO BRAGATO (2023)",
          "JORGE WILSON XERIFE DO CONSUMIDOR (2023)",
          "MAURICI (2023)",
          "ADALBERTO FREITAS (2022)",
          "LETÍCIA AGUIAR (2023)",
          "VINICIUS CAMARINHA (2022)",
          "MARCIO NAKASHIMA (2023)",
          "ALTAIR MORAES (2023)",
          "LECI BRANDÃO (2023)",
          "VINICIUS CAMARINHA (2023)",
          "PAULO FIORILO (2023)",
          "EMÍDIO DE SOUZA (2023)",
          "DELEGADO OLIM (2023)",
          "ENIO TATTO (2023)",
          "LUIZ FERNANDO T. FERREIRA (2023)",
          "CARLÃO PIGNATARI (2023)",
          "TEONILIO BARBA (2023)",
          "ITAMAR BORGES (2023)"
         ],
         "yaxis": "y"
        }
       ],
       "layout": {
        "barmode": "relative",
        "height": 800,
        "legend": {
         "tracegroupgap": 0
        },
        "template": {
         "data": {
          "bar": [
           {
            "error_x": {
             "color": "#2a3f5f"
            },
            "error_y": {
             "color": "#2a3f5f"
            },
            "marker": {
             "line": {
              "color": "#E5ECF6",
              "width": 0.5
             },
             "pattern": {
              "fillmode": "overlay",
              "size": 10,
              "solidity": 0.2
             }
            },
            "type": "bar"
           }
          ],
          "barpolar": [
           {
            "marker": {
             "line": {
              "color": "#E5ECF6",
              "width": 0.5
             },
             "pattern": {
              "fillmode": "overlay",
              "size": 10,
              "solidity": 0.2
             }
            },
            "type": "barpolar"
           }
          ],
          "carpet": [
           {
            "aaxis": {
             "endlinecolor": "#2a3f5f",
             "gridcolor": "white",
             "linecolor": "white",
             "minorgridcolor": "white",
             "startlinecolor": "#2a3f5f"
            },
            "baxis": {
             "endlinecolor": "#2a3f5f",
             "gridcolor": "white",
             "linecolor": "white",
             "minorgridcolor": "white",
             "startlinecolor": "#2a3f5f"
            },
            "type": "carpet"
           }
          ],
          "choropleth": [
           {
            "colorbar": {
             "outlinewidth": 0,
             "ticks": ""
            },
            "type": "choropleth"
           }
          ],
          "contour": [
           {
            "colorbar": {
             "outlinewidth": 0,
             "ticks": ""
            },
            "colorscale": [
             [
              0,
              "#0d0887"
             ],
             [
              0.1111111111111111,
              "#46039f"
             ],
             [
              0.2222222222222222,
              "#7201a8"
             ],
             [
              0.3333333333333333,
              "#9c179e"
             ],
             [
              0.4444444444444444,
              "#bd3786"
             ],
             [
              0.5555555555555556,
              "#d8576b"
             ],
             [
              0.6666666666666666,
              "#ed7953"
             ],
             [
              0.7777777777777778,
              "#fb9f3a"
             ],
             [
              0.8888888888888888,
              "#fdca26"
             ],
             [
              1,
              "#f0f921"
             ]
            ],
            "type": "contour"
           }
          ],
          "contourcarpet": [
           {
            "colorbar": {
             "outlinewidth": 0,
             "ticks": ""
            },
            "type": "contourcarpet"
           }
          ],
          "heatmap": [
           {
            "colorbar": {
             "outlinewidth": 0,
             "ticks": ""
            },
            "colorscale": [
             [
              0,
              "#0d0887"
             ],
             [
              0.1111111111111111,
              "#46039f"
             ],
             [
              0.2222222222222222,
              "#7201a8"
             ],
             [
              0.3333333333333333,
              "#9c179e"
             ],
             [
              0.4444444444444444,
              "#bd3786"
             ],
             [
              0.5555555555555556,
              "#d8576b"
             ],
             [
              0.6666666666666666,
              "#ed7953"
             ],
             [
              0.7777777777777778,
              "#fb9f3a"
             ],
             [
              0.8888888888888888,
              "#fdca26"
             ],
             [
              1,
              "#f0f921"
             ]
            ],
            "type": "heatmap"
           }
          ],
          "heatmapgl": [
           {
            "colorbar": {
             "outlinewidth": 0,
             "ticks": ""
            },
            "colorscale": [
             [
              0,
              "#0d0887"
             ],
             [
              0.1111111111111111,
              "#46039f"
             ],
             [
              0.2222222222222222,
              "#7201a8"
             ],
             [
              0.3333333333333333,
              "#9c179e"
             ],
             [
              0.4444444444444444,
              "#bd3786"
             ],
             [
              0.5555555555555556,
              "#d8576b"
             ],
             [
              0.6666666666666666,
              "#ed7953"
             ],
             [
              0.7777777777777778,
              "#fb9f3a"
             ],
             [
              0.8888888888888888,
              "#fdca26"
             ],
             [
              1,
              "#f0f921"
             ]
            ],
            "type": "heatmapgl"
           }
          ],
          "histogram": [
           {
            "marker": {
             "pattern": {
              "fillmode": "overlay",
              "size": 10,
              "solidity": 0.2
             }
            },
            "type": "histogram"
           }
          ],
          "histogram2d": [
           {
            "colorbar": {
             "outlinewidth": 0,
             "ticks": ""
            },
            "colorscale": [
             [
              0,
              "#0d0887"
             ],
             [
              0.1111111111111111,
              "#46039f"
             ],
             [
              0.2222222222222222,
              "#7201a8"
             ],
             [
              0.3333333333333333,
              "#9c179e"
             ],
             [
              0.4444444444444444,
              "#bd3786"
             ],
             [
              0.5555555555555556,
              "#d8576b"
             ],
             [
              0.6666666666666666,
              "#ed7953"
             ],
             [
              0.7777777777777778,
              "#fb9f3a"
             ],
             [
              0.8888888888888888,
              "#fdca26"
             ],
             [
              1,
              "#f0f921"
             ]
            ],
            "type": "histogram2d"
           }
          ],
          "histogram2dcontour": [
           {
            "colorbar": {
             "outlinewidth": 0,
             "ticks": ""
            },
            "colorscale": [
             [
              0,
              "#0d0887"
             ],
             [
              0.1111111111111111,
              "#46039f"
             ],
             [
              0.2222222222222222,
              "#7201a8"
             ],
             [
              0.3333333333333333,
              "#9c179e"
             ],
             [
              0.4444444444444444,
              "#bd3786"
             ],
             [
              0.5555555555555556,
              "#d8576b"
             ],
             [
              0.6666666666666666,
              "#ed7953"
             ],
             [
              0.7777777777777778,
              "#fb9f3a"
             ],
             [
              0.8888888888888888,
              "#fdca26"
             ],
             [
              1,
              "#f0f921"
             ]
            ],
            "type": "histogram2dcontour"
           }
          ],
          "mesh3d": [
           {
            "colorbar": {
             "outlinewidth": 0,
             "ticks": ""
            },
            "type": "mesh3d"
           }
          ],
          "parcoords": [
           {
            "line": {
             "colorbar": {
              "outlinewidth": 0,
              "ticks": ""
             }
            },
            "type": "parcoords"
           }
          ],
          "pie": [
           {
            "automargin": true,
            "type": "pie"
           }
          ],
          "scatter": [
           {
            "fillpattern": {
             "fillmode": "overlay",
             "size": 10,
             "solidity": 0.2
            },
            "type": "scatter"
           }
          ],
          "scatter3d": [
           {
            "line": {
             "colorbar": {
              "outlinewidth": 0,
              "ticks": ""
             }
            },
            "marker": {
             "colorbar": {
              "outlinewidth": 0,
              "ticks": ""
             }
            },
            "type": "scatter3d"
           }
          ],
          "scattercarpet": [
           {
            "marker": {
             "colorbar": {
              "outlinewidth": 0,
              "ticks": ""
             }
            },
            "type": "scattercarpet"
           }
          ],
          "scattergeo": [
           {
            "marker": {
             "colorbar": {
              "outlinewidth": 0,
              "ticks": ""
             }
            },
            "type": "scattergeo"
           }
          ],
          "scattergl": [
           {
            "marker": {
             "colorbar": {
              "outlinewidth": 0,
              "ticks": ""
             }
            },
            "type": "scattergl"
           }
          ],
          "scattermapbox": [
           {
            "marker": {
             "colorbar": {
              "outlinewidth": 0,
              "ticks": ""
             }
            },
            "type": "scattermapbox"
           }
          ],
          "scatterpolar": [
           {
            "marker": {
             "colorbar": {
              "outlinewidth": 0,
              "ticks": ""
             }
            },
            "type": "scatterpolar"
           }
          ],
          "scatterpolargl": [
           {
            "marker": {
             "colorbar": {
              "outlinewidth": 0,
              "ticks": ""
             }
            },
            "type": "scatterpolargl"
           }
          ],
          "scatterternary": [
           {
            "marker": {
             "colorbar": {
              "outlinewidth": 0,
              "ticks": ""
             }
            },
            "type": "scatterternary"
           }
          ],
          "surface": [
           {
            "colorbar": {
             "outlinewidth": 0,
             "ticks": ""
            },
            "colorscale": [
             [
              0,
              "#0d0887"
             ],
             [
              0.1111111111111111,
              "#46039f"
             ],
             [
              0.2222222222222222,
              "#7201a8"
             ],
             [
              0.3333333333333333,
              "#9c179e"
             ],
             [
              0.4444444444444444,
              "#bd3786"
             ],
             [
              0.5555555555555556,
              "#d8576b"
             ],
             [
              0.6666666666666666,
              "#ed7953"
             ],
             [
              0.7777777777777778,
              "#fb9f3a"
             ],
             [
              0.8888888888888888,
              "#fdca26"
             ],
             [
              1,
              "#f0f921"
             ]
            ],
            "type": "surface"
           }
          ],
          "table": [
           {
            "cells": {
             "fill": {
              "color": "#EBF0F8"
             },
             "line": {
              "color": "white"
             }
            },
            "header": {
             "fill": {
              "color": "#C8D4E3"
             },
             "line": {
              "color": "white"
             }
            },
            "type": "table"
           }
          ]
         },
         "layout": {
          "annotationdefaults": {
           "arrowcolor": "#2a3f5f",
           "arrowhead": 0,
           "arrowwidth": 1
          },
          "autotypenumbers": "strict",
          "coloraxis": {
           "colorbar": {
            "outlinewidth": 0,
            "ticks": ""
           }
          },
          "colorscale": {
           "diverging": [
            [
             0,
             "#8e0152"
            ],
            [
             0.1,
             "#c51b7d"
            ],
            [
             0.2,
             "#de77ae"
            ],
            [
             0.3,
             "#f1b6da"
            ],
            [
             0.4,
             "#fde0ef"
            ],
            [
             0.5,
             "#f7f7f7"
            ],
            [
             0.6,
             "#e6f5d0"
            ],
            [
             0.7,
             "#b8e186"
            ],
            [
             0.8,
             "#7fbc41"
            ],
            [
             0.9,
             "#4d9221"
            ],
            [
             1,
             "#276419"
            ]
           ],
           "sequential": [
            [
             0,
             "#0d0887"
            ],
            [
             0.1111111111111111,
             "#46039f"
            ],
            [
             0.2222222222222222,
             "#7201a8"
            ],
            [
             0.3333333333333333,
             "#9c179e"
            ],
            [
             0.4444444444444444,
             "#bd3786"
            ],
            [
             0.5555555555555556,
             "#d8576b"
            ],
            [
             0.6666666666666666,
             "#ed7953"
            ],
            [
             0.7777777777777778,
             "#fb9f3a"
            ],
            [
             0.8888888888888888,
             "#fdca26"
            ],
            [
             1,
             "#f0f921"
            ]
           ],
           "sequentialminus": [
            [
             0,
             "#0d0887"
            ],
            [
             0.1111111111111111,
             "#46039f"
            ],
            [
             0.2222222222222222,
             "#7201a8"
            ],
            [
             0.3333333333333333,
             "#9c179e"
            ],
            [
             0.4444444444444444,
             "#bd3786"
            ],
            [
             0.5555555555555556,
             "#d8576b"
            ],
            [
             0.6666666666666666,
             "#ed7953"
            ],
            [
             0.7777777777777778,
             "#fb9f3a"
            ],
            [
             0.8888888888888888,
             "#fdca26"
            ],
            [
             1,
             "#f0f921"
            ]
           ]
          },
          "colorway": [
           "#636efa",
           "#EF553B",
           "#00cc96",
           "#ab63fa",
           "#FFA15A",
           "#19d3f3",
           "#FF6692",
           "#B6E880",
           "#FF97FF",
           "#FECB52"
          ],
          "font": {
           "color": "#2a3f5f"
          },
          "geo": {
           "bgcolor": "white",
           "lakecolor": "white",
           "landcolor": "#E5ECF6",
           "showlakes": true,
           "showland": true,
           "subunitcolor": "white"
          },
          "hoverlabel": {
           "align": "left"
          },
          "hovermode": "closest",
          "mapbox": {
           "style": "light"
          },
          "paper_bgcolor": "white",
          "plot_bgcolor": "#E5ECF6",
          "polar": {
           "angularaxis": {
            "gridcolor": "white",
            "linecolor": "white",
            "ticks": ""
           },
           "bgcolor": "#E5ECF6",
           "radialaxis": {
            "gridcolor": "white",
            "linecolor": "white",
            "ticks": ""
           }
          },
          "scene": {
           "xaxis": {
            "backgroundcolor": "#E5ECF6",
            "gridcolor": "white",
            "gridwidth": 2,
            "linecolor": "white",
            "showbackground": true,
            "ticks": "",
            "zerolinecolor": "white"
           },
           "yaxis": {
            "backgroundcolor": "#E5ECF6",
            "gridcolor": "white",
            "gridwidth": 2,
            "linecolor": "white",
            "showbackground": true,
            "ticks": "",
            "zerolinecolor": "white"
           },
           "zaxis": {
            "backgroundcolor": "#E5ECF6",
            "gridcolor": "white",
            "gridwidth": 2,
            "linecolor": "white",
            "showbackground": true,
            "ticks": "",
            "zerolinecolor": "white"
           }
          },
          "shapedefaults": {
           "line": {
            "color": "#2a3f5f"
           }
          },
          "ternary": {
           "aaxis": {
            "gridcolor": "white",
            "linecolor": "white",
            "ticks": ""
           },
           "baxis": {
            "gridcolor": "white",
            "linecolor": "white",
            "ticks": ""
           },
           "bgcolor": "#E5ECF6",
           "caxis": {
            "gridcolor": "white",
            "linecolor": "white",
            "ticks": ""
           }
          },
          "title": {
           "x": 0.05
          },
          "xaxis": {
           "automargin": true,
           "gridcolor": "white",
           "linecolor": "white",
           "ticks": "",
           "title": {
            "standoff": 15
           },
           "zerolinecolor": "white",
           "zerolinewidth": 2
          },
          "yaxis": {
           "automargin": true,
           "gridcolor": "white",
           "linecolor": "white",
           "ticks": "",
           "title": {
            "standoff": 15
           },
           "zerolinecolor": "white",
           "zerolinewidth": 2
          }
         }
        },
        "title": {
         "text": "Os 20 Deputados que mais gastaram",
         "x": 0.5
        },
        "width": 1000,
        "xaxis": {
         "anchor": "y",
         "domain": [
          0,
          1
         ],
         "title": {
          "text": "Valor"
         }
        },
        "yaxis": {
         "anchor": "x",
         "domain": [
          0,
          1
         ],
         "title": {
          "text": "Deputado"
         }
        }
       }
      }
     },
     "metadata": {},
     "output_type": "display_data"
    }
   ],
   "source": [
    "# Criar o gráfico\n",
    "fig = px.bar(deputadosMaiorCusto.sort_values(by='Valor', ascending=True),\n",
    "             x='Valor',\n",
    "             y='Deputado',\n",
    "             orientation='h',\n",
    "             text='Ano',\n",
    "             template='plotly',\n",
    "             width=1000, height=800,\n",
    "             title=\"Os 20 Deputados que mais gastaram\"\n",
    "            )\n",
    "# Centralizar o título\n",
    "fig.update_layout(title_x=0.5)\n",
    "\n",
    "# Apresentar o gráfico\n",
    "fig.show()"
   ]
  },
  {
   "cell_type": "markdown",
   "metadata": {},
   "source": [
    "Para os que menos gastaram"
   ]
  },
  {
   "cell_type": "code",
   "execution_count": 15,
   "metadata": {
    "vscode": {
     "languageId": "python"
    }
   },
   "outputs": [],
   "source": [
    "# Filtrar os dados e salvar no dataframe\n",
    "deputadosMenorCusto = Base_Deputados[['Deputado', 'Valor', 'Ano']].query('Ano >=2015 & Ano <= 2023').groupby(by=['Deputado', 'Ano']).sum().sort_values(by=['Valor'], ascending=True).head(20).reset_index()\n",
    "\n",
    "# Criar uma coluna temporária que desambigua os valores duplicados\n",
    "deputadosMenorCusto['Deputado'] = deputadosMenorCusto['Deputado'] + \" (\" + deputadosMenorCusto['Ano'].astype(str) + \")\""
   ]
  },
  {
   "cell_type": "code",
   "execution_count": 16,
   "metadata": {
    "vscode": {
     "languageId": "python"
    }
   },
   "outputs": [
    {
     "data": {
      "application/vnd.plotly.v1+json": {
       "config": {
        "plotlyServerURL": "https://plot.ly"
       },
       "data": [
        {
         "alignmentgroup": "True",
         "hovertemplate": "Valor=%{x}<br>Deputado=%{y}<br>Ano=%{text}<extra></extra>",
         "legendgroup": "",
         "marker": {
          "color": "#636efa",
          "pattern": {
           "shape": ""
          }
         },
         "name": "",
         "offsetgroup": "",
         "orientation": "h",
         "showlegend": false,
         "text": [
          2023,
          2019,
          2023,
          2019,
          2019,
          2019,
          2015,
          2015,
          2021,
          2022,
          2019,
          2015,
          2019,
          2015,
          2020,
          2019,
          2019,
          2019,
          2019,
          2019
         ],
         "textposition": "auto",
         "type": "bar",
         "x": [
          9160.74,
          8901.99,
          8468.9,
          8210.16,
          8145.17,
          7193.05,
          6788.04,
          5879.89,
          5308.1900000000005,
          5143.65,
          3369.02,
          3271.46,
          2818.42,
          2653.53,
          2628.9,
          2418.9,
          2311.5299999999997,
          2251.96,
          1467.37,
          1302.67
         ],
         "xaxis": "x",
         "y": [
          "DOUGLAS GARCIA (2023)",
          "GERSON BITTENCOURT (2019)",
          "MARCOS ZERBINI (2023)",
          "ROBERTO TRIPOLI (2019)",
          "DANIEL JOSÉ (2019)",
          "VITOR SAPIENZA (2019)",
          "SAMUEL MOREIRA (2015)",
          "BRUNO COVAS (2015)",
          "JANAINA PASCHOAL (2021)",
          "JANAINA PASCHOAL (2022)",
          "ORLANDO BOLÇONE (2019)",
          "VITOR SAPIENZA (2015)",
          "EVANDRO LOSACCO (2019)",
          "ULISSES SALES (2015)",
          "JANAINA PASCHOAL (2020)",
          "ANTONIO SALIM CURIATI (2019)",
          "MAJOR MAURO (2019)",
          "LUIZ GONZAGA VIEIRA (2019)",
          "CARLOS BEZERRA JR. (2019)",
          "PEDRO KAKÁ (2019)"
         ],
         "yaxis": "y"
        }
       ],
       "layout": {
        "barmode": "relative",
        "height": 800,
        "legend": {
         "tracegroupgap": 0
        },
        "template": {
         "data": {
          "bar": [
           {
            "error_x": {
             "color": "#2a3f5f"
            },
            "error_y": {
             "color": "#2a3f5f"
            },
            "marker": {
             "line": {
              "color": "#E5ECF6",
              "width": 0.5
             },
             "pattern": {
              "fillmode": "overlay",
              "size": 10,
              "solidity": 0.2
             }
            },
            "type": "bar"
           }
          ],
          "barpolar": [
           {
            "marker": {
             "line": {
              "color": "#E5ECF6",
              "width": 0.5
             },
             "pattern": {
              "fillmode": "overlay",
              "size": 10,
              "solidity": 0.2
             }
            },
            "type": "barpolar"
           }
          ],
          "carpet": [
           {
            "aaxis": {
             "endlinecolor": "#2a3f5f",
             "gridcolor": "white",
             "linecolor": "white",
             "minorgridcolor": "white",
             "startlinecolor": "#2a3f5f"
            },
            "baxis": {
             "endlinecolor": "#2a3f5f",
             "gridcolor": "white",
             "linecolor": "white",
             "minorgridcolor": "white",
             "startlinecolor": "#2a3f5f"
            },
            "type": "carpet"
           }
          ],
          "choropleth": [
           {
            "colorbar": {
             "outlinewidth": 0,
             "ticks": ""
            },
            "type": "choropleth"
           }
          ],
          "contour": [
           {
            "colorbar": {
             "outlinewidth": 0,
             "ticks": ""
            },
            "colorscale": [
             [
              0,
              "#0d0887"
             ],
             [
              0.1111111111111111,
              "#46039f"
             ],
             [
              0.2222222222222222,
              "#7201a8"
             ],
             [
              0.3333333333333333,
              "#9c179e"
             ],
             [
              0.4444444444444444,
              "#bd3786"
             ],
             [
              0.5555555555555556,
              "#d8576b"
             ],
             [
              0.6666666666666666,
              "#ed7953"
             ],
             [
              0.7777777777777778,
              "#fb9f3a"
             ],
             [
              0.8888888888888888,
              "#fdca26"
             ],
             [
              1,
              "#f0f921"
             ]
            ],
            "type": "contour"
           }
          ],
          "contourcarpet": [
           {
            "colorbar": {
             "outlinewidth": 0,
             "ticks": ""
            },
            "type": "contourcarpet"
           }
          ],
          "heatmap": [
           {
            "colorbar": {
             "outlinewidth": 0,
             "ticks": ""
            },
            "colorscale": [
             [
              0,
              "#0d0887"
             ],
             [
              0.1111111111111111,
              "#46039f"
             ],
             [
              0.2222222222222222,
              "#7201a8"
             ],
             [
              0.3333333333333333,
              "#9c179e"
             ],
             [
              0.4444444444444444,
              "#bd3786"
             ],
             [
              0.5555555555555556,
              "#d8576b"
             ],
             [
              0.6666666666666666,
              "#ed7953"
             ],
             [
              0.7777777777777778,
              "#fb9f3a"
             ],
             [
              0.8888888888888888,
              "#fdca26"
             ],
             [
              1,
              "#f0f921"
             ]
            ],
            "type": "heatmap"
           }
          ],
          "heatmapgl": [
           {
            "colorbar": {
             "outlinewidth": 0,
             "ticks": ""
            },
            "colorscale": [
             [
              0,
              "#0d0887"
             ],
             [
              0.1111111111111111,
              "#46039f"
             ],
             [
              0.2222222222222222,
              "#7201a8"
             ],
             [
              0.3333333333333333,
              "#9c179e"
             ],
             [
              0.4444444444444444,
              "#bd3786"
             ],
             [
              0.5555555555555556,
              "#d8576b"
             ],
             [
              0.6666666666666666,
              "#ed7953"
             ],
             [
              0.7777777777777778,
              "#fb9f3a"
             ],
             [
              0.8888888888888888,
              "#fdca26"
             ],
             [
              1,
              "#f0f921"
             ]
            ],
            "type": "heatmapgl"
           }
          ],
          "histogram": [
           {
            "marker": {
             "pattern": {
              "fillmode": "overlay",
              "size": 10,
              "solidity": 0.2
             }
            },
            "type": "histogram"
           }
          ],
          "histogram2d": [
           {
            "colorbar": {
             "outlinewidth": 0,
             "ticks": ""
            },
            "colorscale": [
             [
              0,
              "#0d0887"
             ],
             [
              0.1111111111111111,
              "#46039f"
             ],
             [
              0.2222222222222222,
              "#7201a8"
             ],
             [
              0.3333333333333333,
              "#9c179e"
             ],
             [
              0.4444444444444444,
              "#bd3786"
             ],
             [
              0.5555555555555556,
              "#d8576b"
             ],
             [
              0.6666666666666666,
              "#ed7953"
             ],
             [
              0.7777777777777778,
              "#fb9f3a"
             ],
             [
              0.8888888888888888,
              "#fdca26"
             ],
             [
              1,
              "#f0f921"
             ]
            ],
            "type": "histogram2d"
           }
          ],
          "histogram2dcontour": [
           {
            "colorbar": {
             "outlinewidth": 0,
             "ticks": ""
            },
            "colorscale": [
             [
              0,
              "#0d0887"
             ],
             [
              0.1111111111111111,
              "#46039f"
             ],
             [
              0.2222222222222222,
              "#7201a8"
             ],
             [
              0.3333333333333333,
              "#9c179e"
             ],
             [
              0.4444444444444444,
              "#bd3786"
             ],
             [
              0.5555555555555556,
              "#d8576b"
             ],
             [
              0.6666666666666666,
              "#ed7953"
             ],
             [
              0.7777777777777778,
              "#fb9f3a"
             ],
             [
              0.8888888888888888,
              "#fdca26"
             ],
             [
              1,
              "#f0f921"
             ]
            ],
            "type": "histogram2dcontour"
           }
          ],
          "mesh3d": [
           {
            "colorbar": {
             "outlinewidth": 0,
             "ticks": ""
            },
            "type": "mesh3d"
           }
          ],
          "parcoords": [
           {
            "line": {
             "colorbar": {
              "outlinewidth": 0,
              "ticks": ""
             }
            },
            "type": "parcoords"
           }
          ],
          "pie": [
           {
            "automargin": true,
            "type": "pie"
           }
          ],
          "scatter": [
           {
            "fillpattern": {
             "fillmode": "overlay",
             "size": 10,
             "solidity": 0.2
            },
            "type": "scatter"
           }
          ],
          "scatter3d": [
           {
            "line": {
             "colorbar": {
              "outlinewidth": 0,
              "ticks": ""
             }
            },
            "marker": {
             "colorbar": {
              "outlinewidth": 0,
              "ticks": ""
             }
            },
            "type": "scatter3d"
           }
          ],
          "scattercarpet": [
           {
            "marker": {
             "colorbar": {
              "outlinewidth": 0,
              "ticks": ""
             }
            },
            "type": "scattercarpet"
           }
          ],
          "scattergeo": [
           {
            "marker": {
             "colorbar": {
              "outlinewidth": 0,
              "ticks": ""
             }
            },
            "type": "scattergeo"
           }
          ],
          "scattergl": [
           {
            "marker": {
             "colorbar": {
              "outlinewidth": 0,
              "ticks": ""
             }
            },
            "type": "scattergl"
           }
          ],
          "scattermapbox": [
           {
            "marker": {
             "colorbar": {
              "outlinewidth": 0,
              "ticks": ""
             }
            },
            "type": "scattermapbox"
           }
          ],
          "scatterpolar": [
           {
            "marker": {
             "colorbar": {
              "outlinewidth": 0,
              "ticks": ""
             }
            },
            "type": "scatterpolar"
           }
          ],
          "scatterpolargl": [
           {
            "marker": {
             "colorbar": {
              "outlinewidth": 0,
              "ticks": ""
             }
            },
            "type": "scatterpolargl"
           }
          ],
          "scatterternary": [
           {
            "marker": {
             "colorbar": {
              "outlinewidth": 0,
              "ticks": ""
             }
            },
            "type": "scatterternary"
           }
          ],
          "surface": [
           {
            "colorbar": {
             "outlinewidth": 0,
             "ticks": ""
            },
            "colorscale": [
             [
              0,
              "#0d0887"
             ],
             [
              0.1111111111111111,
              "#46039f"
             ],
             [
              0.2222222222222222,
              "#7201a8"
             ],
             [
              0.3333333333333333,
              "#9c179e"
             ],
             [
              0.4444444444444444,
              "#bd3786"
             ],
             [
              0.5555555555555556,
              "#d8576b"
             ],
             [
              0.6666666666666666,
              "#ed7953"
             ],
             [
              0.7777777777777778,
              "#fb9f3a"
             ],
             [
              0.8888888888888888,
              "#fdca26"
             ],
             [
              1,
              "#f0f921"
             ]
            ],
            "type": "surface"
           }
          ],
          "table": [
           {
            "cells": {
             "fill": {
              "color": "#EBF0F8"
             },
             "line": {
              "color": "white"
             }
            },
            "header": {
             "fill": {
              "color": "#C8D4E3"
             },
             "line": {
              "color": "white"
             }
            },
            "type": "table"
           }
          ]
         },
         "layout": {
          "annotationdefaults": {
           "arrowcolor": "#2a3f5f",
           "arrowhead": 0,
           "arrowwidth": 1
          },
          "autotypenumbers": "strict",
          "coloraxis": {
           "colorbar": {
            "outlinewidth": 0,
            "ticks": ""
           }
          },
          "colorscale": {
           "diverging": [
            [
             0,
             "#8e0152"
            ],
            [
             0.1,
             "#c51b7d"
            ],
            [
             0.2,
             "#de77ae"
            ],
            [
             0.3,
             "#f1b6da"
            ],
            [
             0.4,
             "#fde0ef"
            ],
            [
             0.5,
             "#f7f7f7"
            ],
            [
             0.6,
             "#e6f5d0"
            ],
            [
             0.7,
             "#b8e186"
            ],
            [
             0.8,
             "#7fbc41"
            ],
            [
             0.9,
             "#4d9221"
            ],
            [
             1,
             "#276419"
            ]
           ],
           "sequential": [
            [
             0,
             "#0d0887"
            ],
            [
             0.1111111111111111,
             "#46039f"
            ],
            [
             0.2222222222222222,
             "#7201a8"
            ],
            [
             0.3333333333333333,
             "#9c179e"
            ],
            [
             0.4444444444444444,
             "#bd3786"
            ],
            [
             0.5555555555555556,
             "#d8576b"
            ],
            [
             0.6666666666666666,
             "#ed7953"
            ],
            [
             0.7777777777777778,
             "#fb9f3a"
            ],
            [
             0.8888888888888888,
             "#fdca26"
            ],
            [
             1,
             "#f0f921"
            ]
           ],
           "sequentialminus": [
            [
             0,
             "#0d0887"
            ],
            [
             0.1111111111111111,
             "#46039f"
            ],
            [
             0.2222222222222222,
             "#7201a8"
            ],
            [
             0.3333333333333333,
             "#9c179e"
            ],
            [
             0.4444444444444444,
             "#bd3786"
            ],
            [
             0.5555555555555556,
             "#d8576b"
            ],
            [
             0.6666666666666666,
             "#ed7953"
            ],
            [
             0.7777777777777778,
             "#fb9f3a"
            ],
            [
             0.8888888888888888,
             "#fdca26"
            ],
            [
             1,
             "#f0f921"
            ]
           ]
          },
          "colorway": [
           "#636efa",
           "#EF553B",
           "#00cc96",
           "#ab63fa",
           "#FFA15A",
           "#19d3f3",
           "#FF6692",
           "#B6E880",
           "#FF97FF",
           "#FECB52"
          ],
          "font": {
           "color": "#2a3f5f"
          },
          "geo": {
           "bgcolor": "white",
           "lakecolor": "white",
           "landcolor": "#E5ECF6",
           "showlakes": true,
           "showland": true,
           "subunitcolor": "white"
          },
          "hoverlabel": {
           "align": "left"
          },
          "hovermode": "closest",
          "mapbox": {
           "style": "light"
          },
          "paper_bgcolor": "white",
          "plot_bgcolor": "#E5ECF6",
          "polar": {
           "angularaxis": {
            "gridcolor": "white",
            "linecolor": "white",
            "ticks": ""
           },
           "bgcolor": "#E5ECF6",
           "radialaxis": {
            "gridcolor": "white",
            "linecolor": "white",
            "ticks": ""
           }
          },
          "scene": {
           "xaxis": {
            "backgroundcolor": "#E5ECF6",
            "gridcolor": "white",
            "gridwidth": 2,
            "linecolor": "white",
            "showbackground": true,
            "ticks": "",
            "zerolinecolor": "white"
           },
           "yaxis": {
            "backgroundcolor": "#E5ECF6",
            "gridcolor": "white",
            "gridwidth": 2,
            "linecolor": "white",
            "showbackground": true,
            "ticks": "",
            "zerolinecolor": "white"
           },
           "zaxis": {
            "backgroundcolor": "#E5ECF6",
            "gridcolor": "white",
            "gridwidth": 2,
            "linecolor": "white",
            "showbackground": true,
            "ticks": "",
            "zerolinecolor": "white"
           }
          },
          "shapedefaults": {
           "line": {
            "color": "#2a3f5f"
           }
          },
          "ternary": {
           "aaxis": {
            "gridcolor": "white",
            "linecolor": "white",
            "ticks": ""
           },
           "baxis": {
            "gridcolor": "white",
            "linecolor": "white",
            "ticks": ""
           },
           "bgcolor": "#E5ECF6",
           "caxis": {
            "gridcolor": "white",
            "linecolor": "white",
            "ticks": ""
           }
          },
          "title": {
           "x": 0.05
          },
          "xaxis": {
           "automargin": true,
           "gridcolor": "white",
           "linecolor": "white",
           "ticks": "",
           "title": {
            "standoff": 15
           },
           "zerolinecolor": "white",
           "zerolinewidth": 2
          },
          "yaxis": {
           "automargin": true,
           "gridcolor": "white",
           "linecolor": "white",
           "ticks": "",
           "title": {
            "standoff": 15
           },
           "zerolinecolor": "white",
           "zerolinewidth": 2
          }
         }
        },
        "title": {
         "text": "Os 20 Deputados que menos gastaram de 2015 a 2023",
         "x": 0.5
        },
        "width": 1000,
        "xaxis": {
         "anchor": "y",
         "domain": [
          0,
          1
         ],
         "title": {
          "text": "Valor"
         }
        },
        "yaxis": {
         "anchor": "x",
         "domain": [
          0,
          1
         ],
         "title": {
          "text": "Deputado"
         }
        }
       }
      }
     },
     "metadata": {},
     "output_type": "display_data"
    }
   ],
   "source": [
    "# Criar o gráfico\n",
    "fig = px.bar(deputadosMenorCusto.sort_values(by='Valor', ascending=False),\n",
    "             x='Valor',\n",
    "             y='Deputado',\n",
    "             orientation='h',\n",
    "             text='Ano',\n",
    "             template='plotly',\n",
    "             width=1000, height=800,\n",
    "             title=\"Os 20 Deputados que menos gastaram de 2015 a 2023\"\n",
    "            )\n",
    "# Centralizar o título\n",
    "fig.update_layout(title_x=0.5)\n",
    "\n",
    "# Apresentar o gráfico\n",
    "fig.show()"
   ]
  },
  {
   "cell_type": "code",
   "execution_count": 17,
   "metadata": {
    "vscode": {
     "languageId": "python"
    }
   },
   "outputs": [],
   "source": [
    "# Filtrar por nome o Deputado e os valores gastos por ano\n",
    "pesquisaDeputado = Base_Deputados[['Deputado', 'Ano', 'Valor']].query(f\"Deputado == '{name}'\").groupby(by=['Deputado', 'Ano']).sum().sort_values(by='Ano', ascending=True).reset_index()"
   ]
  },
  {
   "cell_type": "code",
   "execution_count": 18,
   "metadata": {
    "vscode": {
     "languageId": "python"
    }
   },
   "outputs": [
    {
     "data": {
      "application/vnd.plotly.v1+json": {
       "config": {
        "plotlyServerURL": "https://plot.ly"
       },
       "data": [
        {
         "alignmentgroup": "True",
         "hovertemplate": "Ano=%{text}<br>Valor=%{y}<extra></extra>",
         "legendgroup": "",
         "marker": {
          "color": "#636efa",
          "pattern": {
           "shape": ""
          }
         },
         "name": "",
         "offsetgroup": "",
         "orientation": "v",
         "showlegend": false,
         "text": [
          2024,
          2023,
          2022,
          2021,
          2020,
          2019,
          2018,
          2017,
          2016,
          2015,
          2014,
          2013,
          2012,
          2011
         ],
         "textposition": "auto",
         "type": "bar",
         "x": [
          2024,
          2023,
          2022,
          2021,
          2020,
          2019,
          2018,
          2017,
          2016,
          2015,
          2014,
          2013,
          2012,
          2011
         ],
         "xaxis": "x",
         "y": [
          286797.14,
          513900.8,
          359662.5,
          180419.6,
          303710,
          395784.96,
          385500,
          376928.76,
          353250,
          318750,
          302100,
          290550,
          276600,
          208274.19
         ],
         "yaxis": "y"
        }
       ],
       "layout": {
        "barmode": "relative",
        "height": 800,
        "legend": {
         "tracegroupgap": 0
        },
        "template": {
         "data": {
          "bar": [
           {
            "error_x": {
             "color": "#2a3f5f"
            },
            "error_y": {
             "color": "#2a3f5f"
            },
            "marker": {
             "line": {
              "color": "#E5ECF6",
              "width": 0.5
             },
             "pattern": {
              "fillmode": "overlay",
              "size": 10,
              "solidity": 0.2
             }
            },
            "type": "bar"
           }
          ],
          "barpolar": [
           {
            "marker": {
             "line": {
              "color": "#E5ECF6",
              "width": 0.5
             },
             "pattern": {
              "fillmode": "overlay",
              "size": 10,
              "solidity": 0.2
             }
            },
            "type": "barpolar"
           }
          ],
          "carpet": [
           {
            "aaxis": {
             "endlinecolor": "#2a3f5f",
             "gridcolor": "white",
             "linecolor": "white",
             "minorgridcolor": "white",
             "startlinecolor": "#2a3f5f"
            },
            "baxis": {
             "endlinecolor": "#2a3f5f",
             "gridcolor": "white",
             "linecolor": "white",
             "minorgridcolor": "white",
             "startlinecolor": "#2a3f5f"
            },
            "type": "carpet"
           }
          ],
          "choropleth": [
           {
            "colorbar": {
             "outlinewidth": 0,
             "ticks": ""
            },
            "type": "choropleth"
           }
          ],
          "contour": [
           {
            "colorbar": {
             "outlinewidth": 0,
             "ticks": ""
            },
            "colorscale": [
             [
              0,
              "#0d0887"
             ],
             [
              0.1111111111111111,
              "#46039f"
             ],
             [
              0.2222222222222222,
              "#7201a8"
             ],
             [
              0.3333333333333333,
              "#9c179e"
             ],
             [
              0.4444444444444444,
              "#bd3786"
             ],
             [
              0.5555555555555556,
              "#d8576b"
             ],
             [
              0.6666666666666666,
              "#ed7953"
             ],
             [
              0.7777777777777778,
              "#fb9f3a"
             ],
             [
              0.8888888888888888,
              "#fdca26"
             ],
             [
              1,
              "#f0f921"
             ]
            ],
            "type": "contour"
           }
          ],
          "contourcarpet": [
           {
            "colorbar": {
             "outlinewidth": 0,
             "ticks": ""
            },
            "type": "contourcarpet"
           }
          ],
          "heatmap": [
           {
            "colorbar": {
             "outlinewidth": 0,
             "ticks": ""
            },
            "colorscale": [
             [
              0,
              "#0d0887"
             ],
             [
              0.1111111111111111,
              "#46039f"
             ],
             [
              0.2222222222222222,
              "#7201a8"
             ],
             [
              0.3333333333333333,
              "#9c179e"
             ],
             [
              0.4444444444444444,
              "#bd3786"
             ],
             [
              0.5555555555555556,
              "#d8576b"
             ],
             [
              0.6666666666666666,
              "#ed7953"
             ],
             [
              0.7777777777777778,
              "#fb9f3a"
             ],
             [
              0.8888888888888888,
              "#fdca26"
             ],
             [
              1,
              "#f0f921"
             ]
            ],
            "type": "heatmap"
           }
          ],
          "heatmapgl": [
           {
            "colorbar": {
             "outlinewidth": 0,
             "ticks": ""
            },
            "colorscale": [
             [
              0,
              "#0d0887"
             ],
             [
              0.1111111111111111,
              "#46039f"
             ],
             [
              0.2222222222222222,
              "#7201a8"
             ],
             [
              0.3333333333333333,
              "#9c179e"
             ],
             [
              0.4444444444444444,
              "#bd3786"
             ],
             [
              0.5555555555555556,
              "#d8576b"
             ],
             [
              0.6666666666666666,
              "#ed7953"
             ],
             [
              0.7777777777777778,
              "#fb9f3a"
             ],
             [
              0.8888888888888888,
              "#fdca26"
             ],
             [
              1,
              "#f0f921"
             ]
            ],
            "type": "heatmapgl"
           }
          ],
          "histogram": [
           {
            "marker": {
             "pattern": {
              "fillmode": "overlay",
              "size": 10,
              "solidity": 0.2
             }
            },
            "type": "histogram"
           }
          ],
          "histogram2d": [
           {
            "colorbar": {
             "outlinewidth": 0,
             "ticks": ""
            },
            "colorscale": [
             [
              0,
              "#0d0887"
             ],
             [
              0.1111111111111111,
              "#46039f"
             ],
             [
              0.2222222222222222,
              "#7201a8"
             ],
             [
              0.3333333333333333,
              "#9c179e"
             ],
             [
              0.4444444444444444,
              "#bd3786"
             ],
             [
              0.5555555555555556,
              "#d8576b"
             ],
             [
              0.6666666666666666,
              "#ed7953"
             ],
             [
              0.7777777777777778,
              "#fb9f3a"
             ],
             [
              0.8888888888888888,
              "#fdca26"
             ],
             [
              1,
              "#f0f921"
             ]
            ],
            "type": "histogram2d"
           }
          ],
          "histogram2dcontour": [
           {
            "colorbar": {
             "outlinewidth": 0,
             "ticks": ""
            },
            "colorscale": [
             [
              0,
              "#0d0887"
             ],
             [
              0.1111111111111111,
              "#46039f"
             ],
             [
              0.2222222222222222,
              "#7201a8"
             ],
             [
              0.3333333333333333,
              "#9c179e"
             ],
             [
              0.4444444444444444,
              "#bd3786"
             ],
             [
              0.5555555555555556,
              "#d8576b"
             ],
             [
              0.6666666666666666,
              "#ed7953"
             ],
             [
              0.7777777777777778,
              "#fb9f3a"
             ],
             [
              0.8888888888888888,
              "#fdca26"
             ],
             [
              1,
              "#f0f921"
             ]
            ],
            "type": "histogram2dcontour"
           }
          ],
          "mesh3d": [
           {
            "colorbar": {
             "outlinewidth": 0,
             "ticks": ""
            },
            "type": "mesh3d"
           }
          ],
          "parcoords": [
           {
            "line": {
             "colorbar": {
              "outlinewidth": 0,
              "ticks": ""
             }
            },
            "type": "parcoords"
           }
          ],
          "pie": [
           {
            "automargin": true,
            "type": "pie"
           }
          ],
          "scatter": [
           {
            "fillpattern": {
             "fillmode": "overlay",
             "size": 10,
             "solidity": 0.2
            },
            "type": "scatter"
           }
          ],
          "scatter3d": [
           {
            "line": {
             "colorbar": {
              "outlinewidth": 0,
              "ticks": ""
             }
            },
            "marker": {
             "colorbar": {
              "outlinewidth": 0,
              "ticks": ""
             }
            },
            "type": "scatter3d"
           }
          ],
          "scattercarpet": [
           {
            "marker": {
             "colorbar": {
              "outlinewidth": 0,
              "ticks": ""
             }
            },
            "type": "scattercarpet"
           }
          ],
          "scattergeo": [
           {
            "marker": {
             "colorbar": {
              "outlinewidth": 0,
              "ticks": ""
             }
            },
            "type": "scattergeo"
           }
          ],
          "scattergl": [
           {
            "marker": {
             "colorbar": {
              "outlinewidth": 0,
              "ticks": ""
             }
            },
            "type": "scattergl"
           }
          ],
          "scattermapbox": [
           {
            "marker": {
             "colorbar": {
              "outlinewidth": 0,
              "ticks": ""
             }
            },
            "type": "scattermapbox"
           }
          ],
          "scatterpolar": [
           {
            "marker": {
             "colorbar": {
              "outlinewidth": 0,
              "ticks": ""
             }
            },
            "type": "scatterpolar"
           }
          ],
          "scatterpolargl": [
           {
            "marker": {
             "colorbar": {
              "outlinewidth": 0,
              "ticks": ""
             }
            },
            "type": "scatterpolargl"
           }
          ],
          "scatterternary": [
           {
            "marker": {
             "colorbar": {
              "outlinewidth": 0,
              "ticks": ""
             }
            },
            "type": "scatterternary"
           }
          ],
          "surface": [
           {
            "colorbar": {
             "outlinewidth": 0,
             "ticks": ""
            },
            "colorscale": [
             [
              0,
              "#0d0887"
             ],
             [
              0.1111111111111111,
              "#46039f"
             ],
             [
              0.2222222222222222,
              "#7201a8"
             ],
             [
              0.3333333333333333,
              "#9c179e"
             ],
             [
              0.4444444444444444,
              "#bd3786"
             ],
             [
              0.5555555555555556,
              "#d8576b"
             ],
             [
              0.6666666666666666,
              "#ed7953"
             ],
             [
              0.7777777777777778,
              "#fb9f3a"
             ],
             [
              0.8888888888888888,
              "#fdca26"
             ],
             [
              1,
              "#f0f921"
             ]
            ],
            "type": "surface"
           }
          ],
          "table": [
           {
            "cells": {
             "fill": {
              "color": "#EBF0F8"
             },
             "line": {
              "color": "white"
             }
            },
            "header": {
             "fill": {
              "color": "#C8D4E3"
             },
             "line": {
              "color": "white"
             }
            },
            "type": "table"
           }
          ]
         },
         "layout": {
          "annotationdefaults": {
           "arrowcolor": "#2a3f5f",
           "arrowhead": 0,
           "arrowwidth": 1
          },
          "autotypenumbers": "strict",
          "coloraxis": {
           "colorbar": {
            "outlinewidth": 0,
            "ticks": ""
           }
          },
          "colorscale": {
           "diverging": [
            [
             0,
             "#8e0152"
            ],
            [
             0.1,
             "#c51b7d"
            ],
            [
             0.2,
             "#de77ae"
            ],
            [
             0.3,
             "#f1b6da"
            ],
            [
             0.4,
             "#fde0ef"
            ],
            [
             0.5,
             "#f7f7f7"
            ],
            [
             0.6,
             "#e6f5d0"
            ],
            [
             0.7,
             "#b8e186"
            ],
            [
             0.8,
             "#7fbc41"
            ],
            [
             0.9,
             "#4d9221"
            ],
            [
             1,
             "#276419"
            ]
           ],
           "sequential": [
            [
             0,
             "#0d0887"
            ],
            [
             0.1111111111111111,
             "#46039f"
            ],
            [
             0.2222222222222222,
             "#7201a8"
            ],
            [
             0.3333333333333333,
             "#9c179e"
            ],
            [
             0.4444444444444444,
             "#bd3786"
            ],
            [
             0.5555555555555556,
             "#d8576b"
            ],
            [
             0.6666666666666666,
             "#ed7953"
            ],
            [
             0.7777777777777778,
             "#fb9f3a"
            ],
            [
             0.8888888888888888,
             "#fdca26"
            ],
            [
             1,
             "#f0f921"
            ]
           ],
           "sequentialminus": [
            [
             0,
             "#0d0887"
            ],
            [
             0.1111111111111111,
             "#46039f"
            ],
            [
             0.2222222222222222,
             "#7201a8"
            ],
            [
             0.3333333333333333,
             "#9c179e"
            ],
            [
             0.4444444444444444,
             "#bd3786"
            ],
            [
             0.5555555555555556,
             "#d8576b"
            ],
            [
             0.6666666666666666,
             "#ed7953"
            ],
            [
             0.7777777777777778,
             "#fb9f3a"
            ],
            [
             0.8888888888888888,
             "#fdca26"
            ],
            [
             1,
             "#f0f921"
            ]
           ]
          },
          "colorway": [
           "#636efa",
           "#EF553B",
           "#00cc96",
           "#ab63fa",
           "#FFA15A",
           "#19d3f3",
           "#FF6692",
           "#B6E880",
           "#FF97FF",
           "#FECB52"
          ],
          "font": {
           "color": "#2a3f5f"
          },
          "geo": {
           "bgcolor": "white",
           "lakecolor": "white",
           "landcolor": "#E5ECF6",
           "showlakes": true,
           "showland": true,
           "subunitcolor": "white"
          },
          "hoverlabel": {
           "align": "left"
          },
          "hovermode": "closest",
          "mapbox": {
           "style": "light"
          },
          "paper_bgcolor": "white",
          "plot_bgcolor": "#E5ECF6",
          "polar": {
           "angularaxis": {
            "gridcolor": "white",
            "linecolor": "white",
            "ticks": ""
           },
           "bgcolor": "#E5ECF6",
           "radialaxis": {
            "gridcolor": "white",
            "linecolor": "white",
            "ticks": ""
           }
          },
          "scene": {
           "xaxis": {
            "backgroundcolor": "#E5ECF6",
            "gridcolor": "white",
            "gridwidth": 2,
            "linecolor": "white",
            "showbackground": true,
            "ticks": "",
            "zerolinecolor": "white"
           },
           "yaxis": {
            "backgroundcolor": "#E5ECF6",
            "gridcolor": "white",
            "gridwidth": 2,
            "linecolor": "white",
            "showbackground": true,
            "ticks": "",
            "zerolinecolor": "white"
           },
           "zaxis": {
            "backgroundcolor": "#E5ECF6",
            "gridcolor": "white",
            "gridwidth": 2,
            "linecolor": "white",
            "showbackground": true,
            "ticks": "",
            "zerolinecolor": "white"
           }
          },
          "shapedefaults": {
           "line": {
            "color": "#2a3f5f"
           }
          },
          "ternary": {
           "aaxis": {
            "gridcolor": "white",
            "linecolor": "white",
            "ticks": ""
           },
           "baxis": {
            "gridcolor": "white",
            "linecolor": "white",
            "ticks": ""
           },
           "bgcolor": "#E5ECF6",
           "caxis": {
            "gridcolor": "white",
            "linecolor": "white",
            "ticks": ""
           }
          },
          "title": {
           "x": 0.05
          },
          "xaxis": {
           "automargin": true,
           "gridcolor": "white",
           "linecolor": "white",
           "ticks": "",
           "title": {
            "standoff": 15
           },
           "zerolinecolor": "white",
           "zerolinewidth": 2
          },
          "yaxis": {
           "automargin": true,
           "gridcolor": "white",
           "linecolor": "white",
           "ticks": "",
           "title": {
            "standoff": 15
           },
           "zerolinecolor": "white",
           "zerolinewidth": 2
          }
         }
        },
        "title": {
         "text": "Gasto do(a) Deputado(a) ITAMAR BORGES",
         "x": 0.5
        },
        "width": 1000,
        "xaxis": {
         "anchor": "y",
         "domain": [
          0,
          1
         ],
         "title": {
          "text": "Ano"
         }
        },
        "yaxis": {
         "anchor": "x",
         "domain": [
          0,
          1
         ],
         "title": {
          "text": "Valor"
         }
        }
       }
      }
     },
     "metadata": {},
     "output_type": "display_data"
    }
   ],
   "source": [
    "# Criar o gráfico\n",
    "fig = px.bar(pesquisaDeputado.sort_values(by='Ano', ascending=False),\n",
    "             x='Ano',\n",
    "             y='Valor',\n",
    "             orientation='v',\n",
    "             text='Ano',\n",
    "             template='plotly',\n",
    "             width=1000, height=800,\n",
    "             title=f\"Gasto do(a) Deputado(a) {name}\"\n",
    "            )\n",
    "# Centralizar o título\n",
    "fig.update_layout(title_x=0.5)\n",
    "\n",
    "# Apresentar o gráfico\n",
    "fig.show()"
   ]
  },
  {
   "cell_type": "code",
   "execution_count": 19,
   "metadata": {
    "vscode": {
     "languageId": "python"
    }
   },
   "outputs": [],
   "source": [
    "# Filtrar por nome e ano Deputado e os valores gastos por tipo de atividade\n",
    "pesquisaDeputadoAno = Base_Deputados[['Deputado', 'Ano', 'Tipo', 'Fornecedor', 'CNPJ', 'Valor']].query(f\"Deputado == '{name}' & Ano == {ano}\").groupby(by=['Deputado', 'Ano', 'Tipo']).sum().sort_values(by='Valor', ascending=False).reset_index()"
   ]
  },
  {
   "cell_type": "code",
   "execution_count": 20,
   "metadata": {
    "vscode": {
     "languageId": "python"
    }
   },
   "outputs": [
    {
     "data": {
      "application/vnd.plotly.v1+json": {
       "config": {
        "plotlyServerURL": "https://plot.ly"
       },
       "data": [
        {
         "alignmentgroup": "True",
         "hovertemplate": "Valor=%{x}<br>Tipo=%{y}<br>Ano=%{text}<extra></extra>",
         "legendgroup": "",
         "marker": {
          "color": "#636efa",
          "pattern": {
           "shape": ""
          }
         },
         "name": "",
         "offsetgroup": "",
         "orientation": "h",
         "showlegend": false,
         "text": [
          2023,
          2023,
          2023,
          2023,
          2023,
          2023,
          2023,
          2023,
          2023,
          2023,
          2023
         ],
         "textposition": "auto",
         "type": "bar",
         "x": [
          3479.41,
          13745.66,
          24148.52,
          30999.11,
          38880.159999999996,
          39175.45,
          42870,
          56405.79,
          75000,
          94072.39,
          95124.31
         ],
         "xaxis": "x",
         "y": [
          "G - ASSINATURAS DE PERIÓDICOS, PUBLICAÇÕES, INTERNET E SOFTWARES",
          "J - SERVIÇOS DE COMUNICAÇÃO",
          "E - MATERIAIS DE ESCRITÓRIO E OUTROS MATERIAIS DE CONSUMO",
          "L - LOCAÇÃO DE BENS IMÓVEIS",
          "I - HOSPEDAGEM, ALIMENTAÇÃO E DESPESAS DE LOCOMOÇÃO",
          "H - SERV.UTIL.PÚBLICA (TELEF.MÓVEL/FIXA, ENERGIA, ÁGUA, GÁS ETC)",
          "K - LOCAÇÃO DE BENS MÓVEIS",
          "O - LOCAÇÃO DE VEÍCULO",
          "F - SERVIÇOS TÉCNICOS PROFISSIONAIS (CONSULTORIA, PESQUISAS ETC)",
          "A - COMBUSTÍVEIS E LUBRIFICANTES",
          "P - DIVULGAÇÃO DA ATIVIDADE PARLAMENTAR"
         ],
         "yaxis": "y"
        }
       ],
       "layout": {
        "barmode": "relative",
        "height": 800,
        "legend": {
         "tracegroupgap": 0
        },
        "template": {
         "data": {
          "bar": [
           {
            "error_x": {
             "color": "#2a3f5f"
            },
            "error_y": {
             "color": "#2a3f5f"
            },
            "marker": {
             "line": {
              "color": "#E5ECF6",
              "width": 0.5
             },
             "pattern": {
              "fillmode": "overlay",
              "size": 10,
              "solidity": 0.2
             }
            },
            "type": "bar"
           }
          ],
          "barpolar": [
           {
            "marker": {
             "line": {
              "color": "#E5ECF6",
              "width": 0.5
             },
             "pattern": {
              "fillmode": "overlay",
              "size": 10,
              "solidity": 0.2
             }
            },
            "type": "barpolar"
           }
          ],
          "carpet": [
           {
            "aaxis": {
             "endlinecolor": "#2a3f5f",
             "gridcolor": "white",
             "linecolor": "white",
             "minorgridcolor": "white",
             "startlinecolor": "#2a3f5f"
            },
            "baxis": {
             "endlinecolor": "#2a3f5f",
             "gridcolor": "white",
             "linecolor": "white",
             "minorgridcolor": "white",
             "startlinecolor": "#2a3f5f"
            },
            "type": "carpet"
           }
          ],
          "choropleth": [
           {
            "colorbar": {
             "outlinewidth": 0,
             "ticks": ""
            },
            "type": "choropleth"
           }
          ],
          "contour": [
           {
            "colorbar": {
             "outlinewidth": 0,
             "ticks": ""
            },
            "colorscale": [
             [
              0,
              "#0d0887"
             ],
             [
              0.1111111111111111,
              "#46039f"
             ],
             [
              0.2222222222222222,
              "#7201a8"
             ],
             [
              0.3333333333333333,
              "#9c179e"
             ],
             [
              0.4444444444444444,
              "#bd3786"
             ],
             [
              0.5555555555555556,
              "#d8576b"
             ],
             [
              0.6666666666666666,
              "#ed7953"
             ],
             [
              0.7777777777777778,
              "#fb9f3a"
             ],
             [
              0.8888888888888888,
              "#fdca26"
             ],
             [
              1,
              "#f0f921"
             ]
            ],
            "type": "contour"
           }
          ],
          "contourcarpet": [
           {
            "colorbar": {
             "outlinewidth": 0,
             "ticks": ""
            },
            "type": "contourcarpet"
           }
          ],
          "heatmap": [
           {
            "colorbar": {
             "outlinewidth": 0,
             "ticks": ""
            },
            "colorscale": [
             [
              0,
              "#0d0887"
             ],
             [
              0.1111111111111111,
              "#46039f"
             ],
             [
              0.2222222222222222,
              "#7201a8"
             ],
             [
              0.3333333333333333,
              "#9c179e"
             ],
             [
              0.4444444444444444,
              "#bd3786"
             ],
             [
              0.5555555555555556,
              "#d8576b"
             ],
             [
              0.6666666666666666,
              "#ed7953"
             ],
             [
              0.7777777777777778,
              "#fb9f3a"
             ],
             [
              0.8888888888888888,
              "#fdca26"
             ],
             [
              1,
              "#f0f921"
             ]
            ],
            "type": "heatmap"
           }
          ],
          "heatmapgl": [
           {
            "colorbar": {
             "outlinewidth": 0,
             "ticks": ""
            },
            "colorscale": [
             [
              0,
              "#0d0887"
             ],
             [
              0.1111111111111111,
              "#46039f"
             ],
             [
              0.2222222222222222,
              "#7201a8"
             ],
             [
              0.3333333333333333,
              "#9c179e"
             ],
             [
              0.4444444444444444,
              "#bd3786"
             ],
             [
              0.5555555555555556,
              "#d8576b"
             ],
             [
              0.6666666666666666,
              "#ed7953"
             ],
             [
              0.7777777777777778,
              "#fb9f3a"
             ],
             [
              0.8888888888888888,
              "#fdca26"
             ],
             [
              1,
              "#f0f921"
             ]
            ],
            "type": "heatmapgl"
           }
          ],
          "histogram": [
           {
            "marker": {
             "pattern": {
              "fillmode": "overlay",
              "size": 10,
              "solidity": 0.2
             }
            },
            "type": "histogram"
           }
          ],
          "histogram2d": [
           {
            "colorbar": {
             "outlinewidth": 0,
             "ticks": ""
            },
            "colorscale": [
             [
              0,
              "#0d0887"
             ],
             [
              0.1111111111111111,
              "#46039f"
             ],
             [
              0.2222222222222222,
              "#7201a8"
             ],
             [
              0.3333333333333333,
              "#9c179e"
             ],
             [
              0.4444444444444444,
              "#bd3786"
             ],
             [
              0.5555555555555556,
              "#d8576b"
             ],
             [
              0.6666666666666666,
              "#ed7953"
             ],
             [
              0.7777777777777778,
              "#fb9f3a"
             ],
             [
              0.8888888888888888,
              "#fdca26"
             ],
             [
              1,
              "#f0f921"
             ]
            ],
            "type": "histogram2d"
           }
          ],
          "histogram2dcontour": [
           {
            "colorbar": {
             "outlinewidth": 0,
             "ticks": ""
            },
            "colorscale": [
             [
              0,
              "#0d0887"
             ],
             [
              0.1111111111111111,
              "#46039f"
             ],
             [
              0.2222222222222222,
              "#7201a8"
             ],
             [
              0.3333333333333333,
              "#9c179e"
             ],
             [
              0.4444444444444444,
              "#bd3786"
             ],
             [
              0.5555555555555556,
              "#d8576b"
             ],
             [
              0.6666666666666666,
              "#ed7953"
             ],
             [
              0.7777777777777778,
              "#fb9f3a"
             ],
             [
              0.8888888888888888,
              "#fdca26"
             ],
             [
              1,
              "#f0f921"
             ]
            ],
            "type": "histogram2dcontour"
           }
          ],
          "mesh3d": [
           {
            "colorbar": {
             "outlinewidth": 0,
             "ticks": ""
            },
            "type": "mesh3d"
           }
          ],
          "parcoords": [
           {
            "line": {
             "colorbar": {
              "outlinewidth": 0,
              "ticks": ""
             }
            },
            "type": "parcoords"
           }
          ],
          "pie": [
           {
            "automargin": true,
            "type": "pie"
           }
          ],
          "scatter": [
           {
            "fillpattern": {
             "fillmode": "overlay",
             "size": 10,
             "solidity": 0.2
            },
            "type": "scatter"
           }
          ],
          "scatter3d": [
           {
            "line": {
             "colorbar": {
              "outlinewidth": 0,
              "ticks": ""
             }
            },
            "marker": {
             "colorbar": {
              "outlinewidth": 0,
              "ticks": ""
             }
            },
            "type": "scatter3d"
           }
          ],
          "scattercarpet": [
           {
            "marker": {
             "colorbar": {
              "outlinewidth": 0,
              "ticks": ""
             }
            },
            "type": "scattercarpet"
           }
          ],
          "scattergeo": [
           {
            "marker": {
             "colorbar": {
              "outlinewidth": 0,
              "ticks": ""
             }
            },
            "type": "scattergeo"
           }
          ],
          "scattergl": [
           {
            "marker": {
             "colorbar": {
              "outlinewidth": 0,
              "ticks": ""
             }
            },
            "type": "scattergl"
           }
          ],
          "scattermapbox": [
           {
            "marker": {
             "colorbar": {
              "outlinewidth": 0,
              "ticks": ""
             }
            },
            "type": "scattermapbox"
           }
          ],
          "scatterpolar": [
           {
            "marker": {
             "colorbar": {
              "outlinewidth": 0,
              "ticks": ""
             }
            },
            "type": "scatterpolar"
           }
          ],
          "scatterpolargl": [
           {
            "marker": {
             "colorbar": {
              "outlinewidth": 0,
              "ticks": ""
             }
            },
            "type": "scatterpolargl"
           }
          ],
          "scatterternary": [
           {
            "marker": {
             "colorbar": {
              "outlinewidth": 0,
              "ticks": ""
             }
            },
            "type": "scatterternary"
           }
          ],
          "surface": [
           {
            "colorbar": {
             "outlinewidth": 0,
             "ticks": ""
            },
            "colorscale": [
             [
              0,
              "#0d0887"
             ],
             [
              0.1111111111111111,
              "#46039f"
             ],
             [
              0.2222222222222222,
              "#7201a8"
             ],
             [
              0.3333333333333333,
              "#9c179e"
             ],
             [
              0.4444444444444444,
              "#bd3786"
             ],
             [
              0.5555555555555556,
              "#d8576b"
             ],
             [
              0.6666666666666666,
              "#ed7953"
             ],
             [
              0.7777777777777778,
              "#fb9f3a"
             ],
             [
              0.8888888888888888,
              "#fdca26"
             ],
             [
              1,
              "#f0f921"
             ]
            ],
            "type": "surface"
           }
          ],
          "table": [
           {
            "cells": {
             "fill": {
              "color": "#EBF0F8"
             },
             "line": {
              "color": "white"
             }
            },
            "header": {
             "fill": {
              "color": "#C8D4E3"
             },
             "line": {
              "color": "white"
             }
            },
            "type": "table"
           }
          ]
         },
         "layout": {
          "annotationdefaults": {
           "arrowcolor": "#2a3f5f",
           "arrowhead": 0,
           "arrowwidth": 1
          },
          "autotypenumbers": "strict",
          "coloraxis": {
           "colorbar": {
            "outlinewidth": 0,
            "ticks": ""
           }
          },
          "colorscale": {
           "diverging": [
            [
             0,
             "#8e0152"
            ],
            [
             0.1,
             "#c51b7d"
            ],
            [
             0.2,
             "#de77ae"
            ],
            [
             0.3,
             "#f1b6da"
            ],
            [
             0.4,
             "#fde0ef"
            ],
            [
             0.5,
             "#f7f7f7"
            ],
            [
             0.6,
             "#e6f5d0"
            ],
            [
             0.7,
             "#b8e186"
            ],
            [
             0.8,
             "#7fbc41"
            ],
            [
             0.9,
             "#4d9221"
            ],
            [
             1,
             "#276419"
            ]
           ],
           "sequential": [
            [
             0,
             "#0d0887"
            ],
            [
             0.1111111111111111,
             "#46039f"
            ],
            [
             0.2222222222222222,
             "#7201a8"
            ],
            [
             0.3333333333333333,
             "#9c179e"
            ],
            [
             0.4444444444444444,
             "#bd3786"
            ],
            [
             0.5555555555555556,
             "#d8576b"
            ],
            [
             0.6666666666666666,
             "#ed7953"
            ],
            [
             0.7777777777777778,
             "#fb9f3a"
            ],
            [
             0.8888888888888888,
             "#fdca26"
            ],
            [
             1,
             "#f0f921"
            ]
           ],
           "sequentialminus": [
            [
             0,
             "#0d0887"
            ],
            [
             0.1111111111111111,
             "#46039f"
            ],
            [
             0.2222222222222222,
             "#7201a8"
            ],
            [
             0.3333333333333333,
             "#9c179e"
            ],
            [
             0.4444444444444444,
             "#bd3786"
            ],
            [
             0.5555555555555556,
             "#d8576b"
            ],
            [
             0.6666666666666666,
             "#ed7953"
            ],
            [
             0.7777777777777778,
             "#fb9f3a"
            ],
            [
             0.8888888888888888,
             "#fdca26"
            ],
            [
             1,
             "#f0f921"
            ]
           ]
          },
          "colorway": [
           "#636efa",
           "#EF553B",
           "#00cc96",
           "#ab63fa",
           "#FFA15A",
           "#19d3f3",
           "#FF6692",
           "#B6E880",
           "#FF97FF",
           "#FECB52"
          ],
          "font": {
           "color": "#2a3f5f"
          },
          "geo": {
           "bgcolor": "white",
           "lakecolor": "white",
           "landcolor": "#E5ECF6",
           "showlakes": true,
           "showland": true,
           "subunitcolor": "white"
          },
          "hoverlabel": {
           "align": "left"
          },
          "hovermode": "closest",
          "mapbox": {
           "style": "light"
          },
          "paper_bgcolor": "white",
          "plot_bgcolor": "#E5ECF6",
          "polar": {
           "angularaxis": {
            "gridcolor": "white",
            "linecolor": "white",
            "ticks": ""
           },
           "bgcolor": "#E5ECF6",
           "radialaxis": {
            "gridcolor": "white",
            "linecolor": "white",
            "ticks": ""
           }
          },
          "scene": {
           "xaxis": {
            "backgroundcolor": "#E5ECF6",
            "gridcolor": "white",
            "gridwidth": 2,
            "linecolor": "white",
            "showbackground": true,
            "ticks": "",
            "zerolinecolor": "white"
           },
           "yaxis": {
            "backgroundcolor": "#E5ECF6",
            "gridcolor": "white",
            "gridwidth": 2,
            "linecolor": "white",
            "showbackground": true,
            "ticks": "",
            "zerolinecolor": "white"
           },
           "zaxis": {
            "backgroundcolor": "#E5ECF6",
            "gridcolor": "white",
            "gridwidth": 2,
            "linecolor": "white",
            "showbackground": true,
            "ticks": "",
            "zerolinecolor": "white"
           }
          },
          "shapedefaults": {
           "line": {
            "color": "#2a3f5f"
           }
          },
          "ternary": {
           "aaxis": {
            "gridcolor": "white",
            "linecolor": "white",
            "ticks": ""
           },
           "baxis": {
            "gridcolor": "white",
            "linecolor": "white",
            "ticks": ""
           },
           "bgcolor": "#E5ECF6",
           "caxis": {
            "gridcolor": "white",
            "linecolor": "white",
            "ticks": ""
           }
          },
          "title": {
           "x": 0.05
          },
          "xaxis": {
           "automargin": true,
           "gridcolor": "white",
           "linecolor": "white",
           "ticks": "",
           "title": {
            "standoff": 15
           },
           "zerolinecolor": "white",
           "zerolinewidth": 2
          },
          "yaxis": {
           "automargin": true,
           "gridcolor": "white",
           "linecolor": "white",
           "ticks": "",
           "title": {
            "standoff": 15
           },
           "zerolinecolor": "white",
           "zerolinewidth": 2
          }
         }
        },
        "title": {
         "text": "Gasto do(a) Deputado(a) ITAMAR BORGES no ano 2023",
         "x": 0.5
        },
        "width": 1000,
        "xaxis": {
         "anchor": "y",
         "domain": [
          0,
          1
         ],
         "title": {
          "text": "Valor"
         }
        },
        "yaxis": {
         "anchor": "x",
         "domain": [
          0,
          1
         ],
         "title": {
          "text": "Tipo"
         }
        }
       }
      }
     },
     "metadata": {},
     "output_type": "display_data"
    }
   ],
   "source": [
    "# Criar o gráfico\n",
    "fig = px.bar(pesquisaDeputadoAno.sort_values(by='Valor', ascending=True),\n",
    "             x='Valor',\n",
    "             y='Tipo',\n",
    "             orientation='h',\n",
    "             text='Ano',\n",
    "             template='plotly',\n",
    "             width=1000, height=800,\n",
    "             title=f\"Gasto do(a) Deputado(a) {name} no ano {2023}\"\n",
    "            )\n",
    "# Centralizar o título\n",
    "fig.update_layout(title_x=0.5)\n",
    "\n",
    "# Apresentar o gráfico\n",
    "fig.show()"
   ]
  },
  {
   "cell_type": "code",
   "execution_count": 21,
   "metadata": {
    "vscode": {
     "languageId": "python"
    }
   },
   "outputs": [
    {
     "data": {
      "application/vnd.plotly.v1+json": {
       "config": {
        "plotlyServerURL": "https://plot.ly"
       },
       "data": [
        {
         "domain": {
          "x": [
           0,
           1
          ],
          "y": [
           0,
           1
          ]
         },
         "hovertemplate": "Tipo=%{label}<br>Valor=%{value}<extra></extra>",
         "labels": [
          "P - DIVULGAÇÃO DA ATIVIDADE PARLAMENTAR",
          "A - COMBUSTÍVEIS E LUBRIFICANTES",
          "F - SERVIÇOS TÉCNICOS PROFISSIONAIS (CONSULTORIA, PESQUISAS ETC)",
          "O - LOCAÇÃO DE VEÍCULO",
          "K - LOCAÇÃO DE BENS MÓVEIS",
          "H - SERV.UTIL.PÚBLICA (TELEF.MÓVEL/FIXA, ENERGIA, ÁGUA, GÁS ETC)",
          "I - HOSPEDAGEM, ALIMENTAÇÃO E DESPESAS DE LOCOMOÇÃO",
          "L - LOCAÇÃO DE BENS IMÓVEIS",
          "E - MATERIAIS DE ESCRITÓRIO E OUTROS MATERIAIS DE CONSUMO",
          "J - SERVIÇOS DE COMUNICAÇÃO",
          "G - ASSINATURAS DE PERIÓDICOS, PUBLICAÇÕES, INTERNET E SOFTWARES"
         ],
         "legendgroup": "",
         "name": "",
         "showlegend": true,
         "type": "pie",
         "values": [
          95124.31,
          94072.39,
          75000,
          56405.79,
          42870,
          39175.45,
          38880.159999999996,
          30999.11,
          24148.52,
          13745.66,
          3479.41
         ]
        }
       ],
       "layout": {
        "legend": {
         "tracegroupgap": 0
        },
        "template": {
         "data": {
          "bar": [
           {
            "error_x": {
             "color": "#2a3f5f"
            },
            "error_y": {
             "color": "#2a3f5f"
            },
            "marker": {
             "line": {
              "color": "#E5ECF6",
              "width": 0.5
             },
             "pattern": {
              "fillmode": "overlay",
              "size": 10,
              "solidity": 0.2
             }
            },
            "type": "bar"
           }
          ],
          "barpolar": [
           {
            "marker": {
             "line": {
              "color": "#E5ECF6",
              "width": 0.5
             },
             "pattern": {
              "fillmode": "overlay",
              "size": 10,
              "solidity": 0.2
             }
            },
            "type": "barpolar"
           }
          ],
          "carpet": [
           {
            "aaxis": {
             "endlinecolor": "#2a3f5f",
             "gridcolor": "white",
             "linecolor": "white",
             "minorgridcolor": "white",
             "startlinecolor": "#2a3f5f"
            },
            "baxis": {
             "endlinecolor": "#2a3f5f",
             "gridcolor": "white",
             "linecolor": "white",
             "minorgridcolor": "white",
             "startlinecolor": "#2a3f5f"
            },
            "type": "carpet"
           }
          ],
          "choropleth": [
           {
            "colorbar": {
             "outlinewidth": 0,
             "ticks": ""
            },
            "type": "choropleth"
           }
          ],
          "contour": [
           {
            "colorbar": {
             "outlinewidth": 0,
             "ticks": ""
            },
            "colorscale": [
             [
              0,
              "#0d0887"
             ],
             [
              0.1111111111111111,
              "#46039f"
             ],
             [
              0.2222222222222222,
              "#7201a8"
             ],
             [
              0.3333333333333333,
              "#9c179e"
             ],
             [
              0.4444444444444444,
              "#bd3786"
             ],
             [
              0.5555555555555556,
              "#d8576b"
             ],
             [
              0.6666666666666666,
              "#ed7953"
             ],
             [
              0.7777777777777778,
              "#fb9f3a"
             ],
             [
              0.8888888888888888,
              "#fdca26"
             ],
             [
              1,
              "#f0f921"
             ]
            ],
            "type": "contour"
           }
          ],
          "contourcarpet": [
           {
            "colorbar": {
             "outlinewidth": 0,
             "ticks": ""
            },
            "type": "contourcarpet"
           }
          ],
          "heatmap": [
           {
            "colorbar": {
             "outlinewidth": 0,
             "ticks": ""
            },
            "colorscale": [
             [
              0,
              "#0d0887"
             ],
             [
              0.1111111111111111,
              "#46039f"
             ],
             [
              0.2222222222222222,
              "#7201a8"
             ],
             [
              0.3333333333333333,
              "#9c179e"
             ],
             [
              0.4444444444444444,
              "#bd3786"
             ],
             [
              0.5555555555555556,
              "#d8576b"
             ],
             [
              0.6666666666666666,
              "#ed7953"
             ],
             [
              0.7777777777777778,
              "#fb9f3a"
             ],
             [
              0.8888888888888888,
              "#fdca26"
             ],
             [
              1,
              "#f0f921"
             ]
            ],
            "type": "heatmap"
           }
          ],
          "heatmapgl": [
           {
            "colorbar": {
             "outlinewidth": 0,
             "ticks": ""
            },
            "colorscale": [
             [
              0,
              "#0d0887"
             ],
             [
              0.1111111111111111,
              "#46039f"
             ],
             [
              0.2222222222222222,
              "#7201a8"
             ],
             [
              0.3333333333333333,
              "#9c179e"
             ],
             [
              0.4444444444444444,
              "#bd3786"
             ],
             [
              0.5555555555555556,
              "#d8576b"
             ],
             [
              0.6666666666666666,
              "#ed7953"
             ],
             [
              0.7777777777777778,
              "#fb9f3a"
             ],
             [
              0.8888888888888888,
              "#fdca26"
             ],
             [
              1,
              "#f0f921"
             ]
            ],
            "type": "heatmapgl"
           }
          ],
          "histogram": [
           {
            "marker": {
             "pattern": {
              "fillmode": "overlay",
              "size": 10,
              "solidity": 0.2
             }
            },
            "type": "histogram"
           }
          ],
          "histogram2d": [
           {
            "colorbar": {
             "outlinewidth": 0,
             "ticks": ""
            },
            "colorscale": [
             [
              0,
              "#0d0887"
             ],
             [
              0.1111111111111111,
              "#46039f"
             ],
             [
              0.2222222222222222,
              "#7201a8"
             ],
             [
              0.3333333333333333,
              "#9c179e"
             ],
             [
              0.4444444444444444,
              "#bd3786"
             ],
             [
              0.5555555555555556,
              "#d8576b"
             ],
             [
              0.6666666666666666,
              "#ed7953"
             ],
             [
              0.7777777777777778,
              "#fb9f3a"
             ],
             [
              0.8888888888888888,
              "#fdca26"
             ],
             [
              1,
              "#f0f921"
             ]
            ],
            "type": "histogram2d"
           }
          ],
          "histogram2dcontour": [
           {
            "colorbar": {
             "outlinewidth": 0,
             "ticks": ""
            },
            "colorscale": [
             [
              0,
              "#0d0887"
             ],
             [
              0.1111111111111111,
              "#46039f"
             ],
             [
              0.2222222222222222,
              "#7201a8"
             ],
             [
              0.3333333333333333,
              "#9c179e"
             ],
             [
              0.4444444444444444,
              "#bd3786"
             ],
             [
              0.5555555555555556,
              "#d8576b"
             ],
             [
              0.6666666666666666,
              "#ed7953"
             ],
             [
              0.7777777777777778,
              "#fb9f3a"
             ],
             [
              0.8888888888888888,
              "#fdca26"
             ],
             [
              1,
              "#f0f921"
             ]
            ],
            "type": "histogram2dcontour"
           }
          ],
          "mesh3d": [
           {
            "colorbar": {
             "outlinewidth": 0,
             "ticks": ""
            },
            "type": "mesh3d"
           }
          ],
          "parcoords": [
           {
            "line": {
             "colorbar": {
              "outlinewidth": 0,
              "ticks": ""
             }
            },
            "type": "parcoords"
           }
          ],
          "pie": [
           {
            "automargin": true,
            "type": "pie"
           }
          ],
          "scatter": [
           {
            "fillpattern": {
             "fillmode": "overlay",
             "size": 10,
             "solidity": 0.2
            },
            "type": "scatter"
           }
          ],
          "scatter3d": [
           {
            "line": {
             "colorbar": {
              "outlinewidth": 0,
              "ticks": ""
             }
            },
            "marker": {
             "colorbar": {
              "outlinewidth": 0,
              "ticks": ""
             }
            },
            "type": "scatter3d"
           }
          ],
          "scattercarpet": [
           {
            "marker": {
             "colorbar": {
              "outlinewidth": 0,
              "ticks": ""
             }
            },
            "type": "scattercarpet"
           }
          ],
          "scattergeo": [
           {
            "marker": {
             "colorbar": {
              "outlinewidth": 0,
              "ticks": ""
             }
            },
            "type": "scattergeo"
           }
          ],
          "scattergl": [
           {
            "marker": {
             "colorbar": {
              "outlinewidth": 0,
              "ticks": ""
             }
            },
            "type": "scattergl"
           }
          ],
          "scattermapbox": [
           {
            "marker": {
             "colorbar": {
              "outlinewidth": 0,
              "ticks": ""
             }
            },
            "type": "scattermapbox"
           }
          ],
          "scatterpolar": [
           {
            "marker": {
             "colorbar": {
              "outlinewidth": 0,
              "ticks": ""
             }
            },
            "type": "scatterpolar"
           }
          ],
          "scatterpolargl": [
           {
            "marker": {
             "colorbar": {
              "outlinewidth": 0,
              "ticks": ""
             }
            },
            "type": "scatterpolargl"
           }
          ],
          "scatterternary": [
           {
            "marker": {
             "colorbar": {
              "outlinewidth": 0,
              "ticks": ""
             }
            },
            "type": "scatterternary"
           }
          ],
          "surface": [
           {
            "colorbar": {
             "outlinewidth": 0,
             "ticks": ""
            },
            "colorscale": [
             [
              0,
              "#0d0887"
             ],
             [
              0.1111111111111111,
              "#46039f"
             ],
             [
              0.2222222222222222,
              "#7201a8"
             ],
             [
              0.3333333333333333,
              "#9c179e"
             ],
             [
              0.4444444444444444,
              "#bd3786"
             ],
             [
              0.5555555555555556,
              "#d8576b"
             ],
             [
              0.6666666666666666,
              "#ed7953"
             ],
             [
              0.7777777777777778,
              "#fb9f3a"
             ],
             [
              0.8888888888888888,
              "#fdca26"
             ],
             [
              1,
              "#f0f921"
             ]
            ],
            "type": "surface"
           }
          ],
          "table": [
           {
            "cells": {
             "fill": {
              "color": "#EBF0F8"
             },
             "line": {
              "color": "white"
             }
            },
            "header": {
             "fill": {
              "color": "#C8D4E3"
             },
             "line": {
              "color": "white"
             }
            },
            "type": "table"
           }
          ]
         },
         "layout": {
          "annotationdefaults": {
           "arrowcolor": "#2a3f5f",
           "arrowhead": 0,
           "arrowwidth": 1
          },
          "autotypenumbers": "strict",
          "coloraxis": {
           "colorbar": {
            "outlinewidth": 0,
            "ticks": ""
           }
          },
          "colorscale": {
           "diverging": [
            [
             0,
             "#8e0152"
            ],
            [
             0.1,
             "#c51b7d"
            ],
            [
             0.2,
             "#de77ae"
            ],
            [
             0.3,
             "#f1b6da"
            ],
            [
             0.4,
             "#fde0ef"
            ],
            [
             0.5,
             "#f7f7f7"
            ],
            [
             0.6,
             "#e6f5d0"
            ],
            [
             0.7,
             "#b8e186"
            ],
            [
             0.8,
             "#7fbc41"
            ],
            [
             0.9,
             "#4d9221"
            ],
            [
             1,
             "#276419"
            ]
           ],
           "sequential": [
            [
             0,
             "#0d0887"
            ],
            [
             0.1111111111111111,
             "#46039f"
            ],
            [
             0.2222222222222222,
             "#7201a8"
            ],
            [
             0.3333333333333333,
             "#9c179e"
            ],
            [
             0.4444444444444444,
             "#bd3786"
            ],
            [
             0.5555555555555556,
             "#d8576b"
            ],
            [
             0.6666666666666666,
             "#ed7953"
            ],
            [
             0.7777777777777778,
             "#fb9f3a"
            ],
            [
             0.8888888888888888,
             "#fdca26"
            ],
            [
             1,
             "#f0f921"
            ]
           ],
           "sequentialminus": [
            [
             0,
             "#0d0887"
            ],
            [
             0.1111111111111111,
             "#46039f"
            ],
            [
             0.2222222222222222,
             "#7201a8"
            ],
            [
             0.3333333333333333,
             "#9c179e"
            ],
            [
             0.4444444444444444,
             "#bd3786"
            ],
            [
             0.5555555555555556,
             "#d8576b"
            ],
            [
             0.6666666666666666,
             "#ed7953"
            ],
            [
             0.7777777777777778,
             "#fb9f3a"
            ],
            [
             0.8888888888888888,
             "#fdca26"
            ],
            [
             1,
             "#f0f921"
            ]
           ]
          },
          "colorway": [
           "#636efa",
           "#EF553B",
           "#00cc96",
           "#ab63fa",
           "#FFA15A",
           "#19d3f3",
           "#FF6692",
           "#B6E880",
           "#FF97FF",
           "#FECB52"
          ],
          "font": {
           "color": "#2a3f5f"
          },
          "geo": {
           "bgcolor": "white",
           "lakecolor": "white",
           "landcolor": "#E5ECF6",
           "showlakes": true,
           "showland": true,
           "subunitcolor": "white"
          },
          "hoverlabel": {
           "align": "left"
          },
          "hovermode": "closest",
          "mapbox": {
           "style": "light"
          },
          "paper_bgcolor": "white",
          "plot_bgcolor": "#E5ECF6",
          "polar": {
           "angularaxis": {
            "gridcolor": "white",
            "linecolor": "white",
            "ticks": ""
           },
           "bgcolor": "#E5ECF6",
           "radialaxis": {
            "gridcolor": "white",
            "linecolor": "white",
            "ticks": ""
           }
          },
          "scene": {
           "xaxis": {
            "backgroundcolor": "#E5ECF6",
            "gridcolor": "white",
            "gridwidth": 2,
            "linecolor": "white",
            "showbackground": true,
            "ticks": "",
            "zerolinecolor": "white"
           },
           "yaxis": {
            "backgroundcolor": "#E5ECF6",
            "gridcolor": "white",
            "gridwidth": 2,
            "linecolor": "white",
            "showbackground": true,
            "ticks": "",
            "zerolinecolor": "white"
           },
           "zaxis": {
            "backgroundcolor": "#E5ECF6",
            "gridcolor": "white",
            "gridwidth": 2,
            "linecolor": "white",
            "showbackground": true,
            "ticks": "",
            "zerolinecolor": "white"
           }
          },
          "shapedefaults": {
           "line": {
            "color": "#2a3f5f"
           }
          },
          "ternary": {
           "aaxis": {
            "gridcolor": "white",
            "linecolor": "white",
            "ticks": ""
           },
           "baxis": {
            "gridcolor": "white",
            "linecolor": "white",
            "ticks": ""
           },
           "bgcolor": "#E5ECF6",
           "caxis": {
            "gridcolor": "white",
            "linecolor": "white",
            "ticks": ""
           }
          },
          "title": {
           "x": 0.05
          },
          "xaxis": {
           "automargin": true,
           "gridcolor": "white",
           "linecolor": "white",
           "ticks": "",
           "title": {
            "standoff": 15
           },
           "zerolinecolor": "white",
           "zerolinewidth": 2
          },
          "yaxis": {
           "automargin": true,
           "gridcolor": "white",
           "linecolor": "white",
           "ticks": "",
           "title": {
            "standoff": 15
           },
           "zerolinecolor": "white",
           "zerolinewidth": 2
          }
         }
        },
        "title": {
         "text": "Porcentagem por tipo de atividade do Deputado(a) ITAMAR BORGES no ano 2023",
         "x": 0.5
        }
       }
      }
     },
     "metadata": {},
     "output_type": "display_data"
    }
   ],
   "source": [
    "# Gráfico de pizza\n",
    "fig = px.pie(pesquisaDeputadoAno, \n",
    "             names='Tipo', \n",
    "             values='Valor',\n",
    "             template='plotly',\n",
    "             title=f\"Porcentagem por tipo de atividade do Deputado(a) {name} no ano {ano}\"\n",
    "            )\n",
    "\n",
    "# Centralizar o título\n",
    "fig.update_layout(title_x=0.5)\n",
    "\n",
    "# Apresentar o gráfico\n",
    "fig.show()"
   ]
  },
  {
   "cell_type": "code",
   "execution_count": 22,
   "metadata": {
    "vscode": {
     "languageId": "python"
    }
   },
   "outputs": [],
   "source": [
    "# Filtrar por nome e ano Deputado e os valores gastos por tipo de atividade\n",
    "pesquisaDeputadoAnoTipo = Base_Deputados[['Deputado', 'Ano', 'Mes', 'Tipo', 'Fornecedor', 'CNPJ', 'Valor']].query(f\"Deputado == '{name}' & Ano == {ano} & Tipo == '{tipo}'\").groupby(by=['Deputado', 'Ano', 'Mes','Tipo', 'Fornecedor', 'CNPJ']).sum().sort_values(by='Valor', ascending=False).reset_index()"
   ]
  },
  {
   "cell_type": "code",
   "execution_count": 27,
   "metadata": {
    "vscode": {
     "languageId": "python"
    }
   },
   "outputs": [
    {
     "data": {
      "text/html": [
       "<div>\n",
       "<style scoped>\n",
       "    .dataframe tbody tr th:only-of-type {\n",
       "        vertical-align: middle;\n",
       "    }\n",
       "\n",
       "    .dataframe tbody tr th {\n",
       "        vertical-align: top;\n",
       "    }\n",
       "\n",
       "    .dataframe thead th {\n",
       "        text-align: right;\n",
       "    }\n",
       "</style>\n",
       "<table border=\"1\" class=\"dataframe\">\n",
       "  <thead>\n",
       "    <tr style=\"text-align: right;\">\n",
       "      <th></th>\n",
       "      <th>Deputado</th>\n",
       "      <th>Ano</th>\n",
       "      <th>Mes</th>\n",
       "      <th>Tipo</th>\n",
       "      <th>Fornecedor</th>\n",
       "      <th>CNPJ</th>\n",
       "      <th>Valor</th>\n",
       "    </tr>\n",
       "  </thead>\n",
       "  <tbody>\n",
       "    <tr>\n",
       "      <th>0</th>\n",
       "      <td>ITAMAR BORGES</td>\n",
       "      <td>2023</td>\n",
       "      <td>3</td>\n",
       "      <td>P - DIVULGAÇÃO DA ATIVIDADE PARLAMENTAR</td>\n",
       "      <td>FACEBOOK SERVIÇOS ONLINE DO BRASIL LTDA</td>\n",
       "      <td>13347016000117</td>\n",
       "      <td>10000.00</td>\n",
       "    </tr>\n",
       "    <tr>\n",
       "      <th>1</th>\n",
       "      <td>ITAMAR BORGES</td>\n",
       "      <td>2023</td>\n",
       "      <td>4</td>\n",
       "      <td>P - DIVULGAÇÃO DA ATIVIDADE PARLAMENTAR</td>\n",
       "      <td>FACEBOOK SERVIÇOS ONLINE DO BRASIL LTDA</td>\n",
       "      <td>13347016000117</td>\n",
       "      <td>10000.00</td>\n",
       "    </tr>\n",
       "    <tr>\n",
       "      <th>2</th>\n",
       "      <td>ITAMAR BORGES</td>\n",
       "      <td>2023</td>\n",
       "      <td>5</td>\n",
       "      <td>P - DIVULGAÇÃO DA ATIVIDADE PARLAMENTAR</td>\n",
       "      <td>FACEBOOK SERVIÇOS ONLINE DO BRASIL LTDA</td>\n",
       "      <td>13347016000117</td>\n",
       "      <td>10000.00</td>\n",
       "    </tr>\n",
       "    <tr>\n",
       "      <th>3</th>\n",
       "      <td>ITAMAR BORGES</td>\n",
       "      <td>2023</td>\n",
       "      <td>6</td>\n",
       "      <td>P - DIVULGAÇÃO DA ATIVIDADE PARLAMENTAR</td>\n",
       "      <td>FACEBOOK SERVIÇOS ONLINE DO BRASIL LTDA</td>\n",
       "      <td>13347016000117</td>\n",
       "      <td>10000.00</td>\n",
       "    </tr>\n",
       "    <tr>\n",
       "      <th>4</th>\n",
       "      <td>ITAMAR BORGES</td>\n",
       "      <td>2023</td>\n",
       "      <td>7</td>\n",
       "      <td>P - DIVULGAÇÃO DA ATIVIDADE PARLAMENTAR</td>\n",
       "      <td>FACEBOOK SERVIÇOS ONLINE DO BRASIL LTDA</td>\n",
       "      <td>13347016000117</td>\n",
       "      <td>10000.00</td>\n",
       "    </tr>\n",
       "    <tr>\n",
       "      <th>5</th>\n",
       "      <td>ITAMAR BORGES</td>\n",
       "      <td>2023</td>\n",
       "      <td>10</td>\n",
       "      <td>P - DIVULGAÇÃO DA ATIVIDADE PARLAMENTAR</td>\n",
       "      <td>FACEBOOK SERVIÇOS ONLINE DO BRASIL LTDA</td>\n",
       "      <td>13347016000117</td>\n",
       "      <td>10000.00</td>\n",
       "    </tr>\n",
       "    <tr>\n",
       "      <th>6</th>\n",
       "      <td>ITAMAR BORGES</td>\n",
       "      <td>2023</td>\n",
       "      <td>8</td>\n",
       "      <td>P - DIVULGAÇÃO DA ATIVIDADE PARLAMENTAR</td>\n",
       "      <td>FACEBOOK SERVIÇOS ONLINE DO BRASIL LTDA</td>\n",
       "      <td>13347016000117</td>\n",
       "      <td>9582.16</td>\n",
       "    </tr>\n",
       "    <tr>\n",
       "      <th>7</th>\n",
       "      <td>ITAMAR BORGES</td>\n",
       "      <td>2023</td>\n",
       "      <td>9</td>\n",
       "      <td>P - DIVULGAÇÃO DA ATIVIDADE PARLAMENTAR</td>\n",
       "      <td>FACEBOOK SERVIÇOS ONLINE DO BRASIL LTDA</td>\n",
       "      <td>13347016000117</td>\n",
       "      <td>9152.98</td>\n",
       "    </tr>\n",
       "    <tr>\n",
       "      <th>8</th>\n",
       "      <td>ITAMAR BORGES</td>\n",
       "      <td>2023</td>\n",
       "      <td>1</td>\n",
       "      <td>P - DIVULGAÇÃO DA ATIVIDADE PARLAMENTAR</td>\n",
       "      <td>FACEBOOK SERVIÇOS ONLINE DO BRASIL LTDA</td>\n",
       "      <td>13347016000117</td>\n",
       "      <td>8895.99</td>\n",
       "    </tr>\n",
       "    <tr>\n",
       "      <th>9</th>\n",
       "      <td>ITAMAR BORGES</td>\n",
       "      <td>2023</td>\n",
       "      <td>2</td>\n",
       "      <td>P - DIVULGAÇÃO DA ATIVIDADE PARLAMENTAR</td>\n",
       "      <td>FACEBOOK SERVIÇOS ONLINE DO BRASIL LTDA</td>\n",
       "      <td>13347016000117</td>\n",
       "      <td>6527.98</td>\n",
       "    </tr>\n",
       "    <tr>\n",
       "      <th>10</th>\n",
       "      <td>ITAMAR BORGES</td>\n",
       "      <td>2023</td>\n",
       "      <td>11</td>\n",
       "      <td>P - DIVULGAÇÃO DA ATIVIDADE PARLAMENTAR</td>\n",
       "      <td>LOCAWEB</td>\n",
       "      <td>02351877000152</td>\n",
       "      <td>694.21</td>\n",
       "    </tr>\n",
       "    <tr>\n",
       "      <th>11</th>\n",
       "      <td>ITAMAR BORGES</td>\n",
       "      <td>2023</td>\n",
       "      <td>12</td>\n",
       "      <td>P - DIVULGAÇÃO DA ATIVIDADE PARLAMENTAR</td>\n",
       "      <td>LOCAWEB</td>\n",
       "      <td>02351877000152</td>\n",
       "      <td>270.99</td>\n",
       "    </tr>\n",
       "  </tbody>\n",
       "</table>\n",
       "</div>"
      ],
      "text/plain": [
       "         Deputado   Ano  Mes                                     Tipo  \\\n",
       "0   ITAMAR BORGES  2023    3  P - DIVULGAÇÃO DA ATIVIDADE PARLAMENTAR   \n",
       "1   ITAMAR BORGES  2023    4  P - DIVULGAÇÃO DA ATIVIDADE PARLAMENTAR   \n",
       "2   ITAMAR BORGES  2023    5  P - DIVULGAÇÃO DA ATIVIDADE PARLAMENTAR   \n",
       "3   ITAMAR BORGES  2023    6  P - DIVULGAÇÃO DA ATIVIDADE PARLAMENTAR   \n",
       "4   ITAMAR BORGES  2023    7  P - DIVULGAÇÃO DA ATIVIDADE PARLAMENTAR   \n",
       "5   ITAMAR BORGES  2023   10  P - DIVULGAÇÃO DA ATIVIDADE PARLAMENTAR   \n",
       "6   ITAMAR BORGES  2023    8  P - DIVULGAÇÃO DA ATIVIDADE PARLAMENTAR   \n",
       "7   ITAMAR BORGES  2023    9  P - DIVULGAÇÃO DA ATIVIDADE PARLAMENTAR   \n",
       "8   ITAMAR BORGES  2023    1  P - DIVULGAÇÃO DA ATIVIDADE PARLAMENTAR   \n",
       "9   ITAMAR BORGES  2023    2  P - DIVULGAÇÃO DA ATIVIDADE PARLAMENTAR   \n",
       "10  ITAMAR BORGES  2023   11  P - DIVULGAÇÃO DA ATIVIDADE PARLAMENTAR   \n",
       "11  ITAMAR BORGES  2023   12  P - DIVULGAÇÃO DA ATIVIDADE PARLAMENTAR   \n",
       "\n",
       "                                 Fornecedor            CNPJ     Valor  \n",
       "0   FACEBOOK SERVIÇOS ONLINE DO BRASIL LTDA  13347016000117  10000.00  \n",
       "1   FACEBOOK SERVIÇOS ONLINE DO BRASIL LTDA  13347016000117  10000.00  \n",
       "2   FACEBOOK SERVIÇOS ONLINE DO BRASIL LTDA  13347016000117  10000.00  \n",
       "3   FACEBOOK SERVIÇOS ONLINE DO BRASIL LTDA  13347016000117  10000.00  \n",
       "4   FACEBOOK SERVIÇOS ONLINE DO BRASIL LTDA  13347016000117  10000.00  \n",
       "5   FACEBOOK SERVIÇOS ONLINE DO BRASIL LTDA  13347016000117  10000.00  \n",
       "6   FACEBOOK SERVIÇOS ONLINE DO BRASIL LTDA  13347016000117   9582.16  \n",
       "7   FACEBOOK SERVIÇOS ONLINE DO BRASIL LTDA  13347016000117   9152.98  \n",
       "8   FACEBOOK SERVIÇOS ONLINE DO BRASIL LTDA  13347016000117   8895.99  \n",
       "9   FACEBOOK SERVIÇOS ONLINE DO BRASIL LTDA  13347016000117   6527.98  \n",
       "10                                  LOCAWEB  02351877000152    694.21  \n",
       "11                                  LOCAWEB  02351877000152    270.99  "
      ]
     },
     "execution_count": 27,
     "metadata": {},
     "output_type": "execute_result"
    }
   ],
   "source": [
    "pesquisaDeputadoAnoTipo"
   ]
  },
  {
   "cell_type": "code",
   "execution_count": 24,
   "metadata": {
    "vscode": {
     "languageId": "python"
    }
   },
   "outputs": [
    {
     "ename": "AttributeError",
     "evalue": "'DataFrame' object has no attribute 'dtype'",
     "output_type": "error",
     "traceback": [
      "\u001b[1;31m---------------------------------------------------------------------------\u001b[0m",
      "\u001b[1;31mAttributeError\u001b[0m                            Traceback (most recent call last)",
      "\u001b[1;32m<ipython-input-24-aaa7e98d0fde>\u001b[0m in \u001b[0;36m<cell line: 1>\u001b[1;34m()\u001b[0m\n\u001b[1;32m----> 1\u001b[1;33m \u001b[0mpesquisaDeputadoAnoTipo\u001b[0m\u001b[1;33m.\u001b[0m\u001b[0mdtype\u001b[0m\u001b[1;33m(\u001b[0m\u001b[1;33m)\u001b[0m  \u001b[1;31m#1: pesquisaDeputadoAnoTipo.dtype()\u001b[0m\u001b[1;33m\u001b[0m\u001b[1;33m\u001b[0m\u001b[0m\n\u001b[0m",
      "\u001b[1;32mc:\\app\\Python39\\lib\\site-packages\\pandas\\core\\generic.py\u001b[0m in \u001b[0;36m__getattr__\u001b[1;34m(self, name)\u001b[0m\n\u001b[0;32m   5581\u001b[0m         ):\n\u001b[0;32m   5582\u001b[0m             \u001b[1;32mreturn\u001b[0m \u001b[0mself\u001b[0m\u001b[1;33m[\u001b[0m\u001b[0mname\u001b[0m\u001b[1;33m]\u001b[0m\u001b[1;33m\u001b[0m\u001b[1;33m\u001b[0m\u001b[0m\n\u001b[1;32m-> 5583\u001b[1;33m         \u001b[1;32mreturn\u001b[0m \u001b[0mobject\u001b[0m\u001b[1;33m.\u001b[0m\u001b[0m__getattribute__\u001b[0m\u001b[1;33m(\u001b[0m\u001b[0mself\u001b[0m\u001b[1;33m,\u001b[0m \u001b[0mname\u001b[0m\u001b[1;33m)\u001b[0m\u001b[1;33m\u001b[0m\u001b[1;33m\u001b[0m\u001b[0m\n\u001b[0m\u001b[0;32m   5584\u001b[0m \u001b[1;33m\u001b[0m\u001b[0m\n\u001b[0;32m   5585\u001b[0m     \u001b[1;32mdef\u001b[0m \u001b[0m__setattr__\u001b[0m\u001b[1;33m(\u001b[0m\u001b[0mself\u001b[0m\u001b[1;33m,\u001b[0m \u001b[0mname\u001b[0m\u001b[1;33m:\u001b[0m \u001b[0mstr\u001b[0m\u001b[1;33m,\u001b[0m \u001b[0mvalue\u001b[0m\u001b[1;33m)\u001b[0m \u001b[1;33m->\u001b[0m \u001b[1;32mNone\u001b[0m\u001b[1;33m:\u001b[0m\u001b[1;33m\u001b[0m\u001b[1;33m\u001b[0m\u001b[0m\n",
      "\u001b[1;31mAttributeError\u001b[0m: 'DataFrame' object has no attribute 'dtype'"
     ]
    }
   ],
   "source": [
    "pesquisaDeputadoAnoTipo."
   ]
  }
 ],
 "metadata": {
  "kernelspec": {
   "display_name": "Coconut",
   "language": "coconut",
   "name": "coconut"
  },
  "language_info": {
   "codemirror_mode": {
    "name": "python",
    "version": 3
   },
   "file_extension": ".coco",
   "mimetype": "text/x-python3",
   "name": "coconut",
   "pygments_lexer": "coconut",
   "version": "1.6.0"
  }
 },
 "nbformat": 4,
 "nbformat_minor": 2
}
